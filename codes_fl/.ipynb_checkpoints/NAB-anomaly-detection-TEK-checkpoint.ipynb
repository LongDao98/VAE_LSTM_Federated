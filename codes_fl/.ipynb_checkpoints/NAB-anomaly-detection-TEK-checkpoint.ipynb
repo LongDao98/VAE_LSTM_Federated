{
 "cells": [
  {
   "cell_type": "code",
   "execution_count": 1,
   "metadata": {},
   "outputs": [],
   "source": [
    "import warnings\n",
    "\n",
    "def fxn():\n",
    "    warnings.warn(\"deprecated\", DeprecationWarning)\n",
    "\n",
    "with warnings.catch_warnings():\n",
    "    warnings.simplefilter(\"ignore\")\n",
    "    fxn()"
   ]
  },
  {
   "cell_type": "code",
   "execution_count": 2,
   "metadata": {},
   "outputs": [],
   "source": [
    "import tensorflow as tf\n",
    "import tensorflow_probability as tfp\n",
    "import numpy as np\n",
    "import matplotlib.pylab as plt\n",
    "from matplotlib.pyplot import plot, ion, show, savefig, cla, figure\n",
    "import random\n",
    "import time"
   ]
  },
  {
   "cell_type": "code",
   "execution_count": 3,
   "metadata": {},
   "outputs": [],
   "source": [
    "import os\n",
    "os.environ[\"CUDA_DEVICE_ORDER\"]=\"PCI_BUS_ID\"   # see issue #152\n",
    "os.environ[\"CUDA_VISIBLE_DEVICES\"]=\"0\"\n",
    "\n",
    "import tensorflow as tf\n",
    "from data_loader import DataGenerator\n",
    "from models import VAEmodel, lstmKerasModel\n",
    "from trainers import vaeTrainer\n",
    "\n",
    "from utils import process_config, create_dirs, get_args"
   ]
  },
  {
   "cell_type": "code",
   "execution_count": 4,
   "metadata": {},
   "outputs": [
    {
     "name": "stdout",
     "output_type": "stream",
     "text": [
      "[]\n"
     ]
    }
   ],
   "source": [
    "from tensorflow.python.client import device_lib\n",
    "\n",
    "def get_available_gpus():\n",
    "    local_device_protos = device_lib.list_local_devices()\n",
    "    return [x.name for x in local_device_protos if x.device_type == 'GPU']\n",
    "\n",
    "print(get_available_gpus())"
   ]
  },
  {
   "cell_type": "code",
   "execution_count": 5,
   "metadata": {},
   "outputs": [
    {
     "name": "stdout",
     "output_type": "stream",
     "text": [
      "Device mapping:\n",
      "\n",
      "WARNING:tensorflow:From D:\\Future Internet Lab\\VAE_LSTM_FL_Quang\\codes_fl\\base.py:67: The name tf.variable_scope is deprecated. Please use tf.compat.v1.variable_scope instead.\n",
      "\n",
      "WARNING:tensorflow:From D:\\Future Internet Lab\\VAE_LSTM_FL_Quang\\codes_fl\\base.py:69: The name tf.assign is deprecated. Please use tf.compat.v1.assign instead.\n",
      "\n",
      "WARNING:tensorflow:From D:\\Future Internet Lab\\VAE_LSTM_FL_Quang\\codes_fl\\models.py:25: The name tf.placeholder is deprecated. Please use tf.compat.v1.placeholder instead.\n",
      "\n",
      "WARNING:tensorflow:From D:\\anaconda3\\envs\\vae_lstm\\lib\\site-packages\\tensorflow_core\\python\\data\\util\\random_seed.py:58: where (from tensorflow.python.ops.array_ops) is deprecated and will be removed in a future version.\n",
      "Instructions for updating:\n",
      "Use tf.where in 2.0, which has the same broadcast rule as np.where\n",
      "WARNING:tensorflow:From D:\\Future Internet Lab\\VAE_LSTM_FL_Quang\\codes_fl\\models.py:31: DatasetV1.make_initializable_iterator (from tensorflow.python.data.ops.dataset_ops) is deprecated and will be removed in a future version.\n",
      "Instructions for updating:\n",
      "Use `for ... in dataset:` to iterate over a dataset. If using `tf.estimator`, return the `Dataset` object directly from your input function. As a last resort, you can use `tf.compat.v1.data.make_initializable_iterator(dataset)`.\n",
      "WARNING:tensorflow:\n",
      "The TensorFlow contrib module will not be included in TensorFlow 2.0.\n",
      "For more information, please see:\n",
      "  * https://github.com/tensorflow/community/blob/master/rfcs/20180907-contrib-sunset.md\n",
      "  * https://github.com/tensorflow/addons\n",
      "  * https://github.com/tensorflow/io (for I/O related ops)\n",
      "If you depend on functionality not listed there, please file an issue.\n",
      "\n",
      "WARNING:tensorflow:From D:\\Future Internet Lab\\VAE_LSTM_FL_Quang\\codes_fl\\models.py:49: dense (from tensorflow.python.layers.core) is deprecated and will be removed in a future version.\n",
      "Instructions for updating:\n",
      "Use keras.layers.Dense instead.\n",
      "WARNING:tensorflow:From D:\\anaconda3\\envs\\vae_lstm\\lib\\site-packages\\tensorflow_core\\python\\layers\\core.py:187: Layer.apply (from tensorflow.python.keras.engine.base_layer) is deprecated and will be removed in a future version.\n",
      "Instructions for updating:\n",
      "Please use `layer.__call__` method instead.\n",
      "conv_1: Tensor(\"encoder_Global/dense/LeakyRelu:0\", shape=(?, 24, 1, 10), dtype=float32)\n",
      "WARNING:tensorflow:From D:\\Future Internet Lab\\VAE_LSTM_FL_Quang\\codes_fl\\models.py:53: flatten (from tensorflow.python.layers.core) is deprecated and will be removed in a future version.\n",
      "Instructions for updating:\n",
      "Use keras.layers.flatten instead.\n",
      "finish encoder for Global: \n",
      "Tensor(\"encoder_Global/Add_1:0\", shape=(?, 6), dtype=float32)\n",
      "\n",
      "\n",
      "decoded is: Tensor(\"decoder_Global/dense_2/BiasAdd:0\", shape=(?, 24), dtype=float32)\n",
      "finish decoder for Global: \n",
      "Tensor(\"decoder_Global/Reshape:0\", shape=(?, 24, 1), dtype=float32)\n",
      "\n",
      "\n",
      "sigma2 for Global: \n",
      "Tensor(\"sigma2_dataset_Global/Square:0\", shape=(), dtype=float32)\n",
      "\n",
      "WARNING:tensorflow:From D:\\Future Internet Lab\\VAE_LSTM_FL_Quang\\codes_fl\\base.py:78: The name tf.log is deprecated. Please use tf.math.log instead.\n",
      "\n",
      "KL_loss shape2 ()\n",
      "recon_error shape ()\n",
      "ls_recon shape ()\n",
      "sigma_regu shape ()\n",
      "two_pi shape ()\n",
      "elbo loss shape []\n",
      "WARNING:tensorflow:From D:\\Future Internet Lab\\VAE_LSTM_FL_Quang\\codes_fl\\base.py:111: The name tf.get_collection is deprecated. Please use tf.compat.v1.get_collection instead.\n",
      "\n",
      "WARNING:tensorflow:From D:\\Future Internet Lab\\VAE_LSTM_FL_Quang\\codes_fl\\base.py:111: The name tf.GraphKeys is deprecated. Please use tf.compat.v1.GraphKeys instead.\n",
      "\n",
      "WARNING:tensorflow:From D:\\Future Internet Lab\\VAE_LSTM_FL_Quang\\codes_fl\\utils.py:79: The name tf.trainable_variables is deprecated. Please use tf.compat.v1.trainable_variables instead.\n",
      "\n",
      "The total number of trainable parameters in the encoder_Global model is: 6104\n",
      "The total number of trainable parameters in the decoder_Global model is: 682\n",
      "The total number of trainable parameters in the sigma2_dataset_Global model is: 0\n",
      "Total number of trainable parameters in the VAE network of Global is: 6786\n",
      "WARNING:tensorflow:From D:\\Future Internet Lab\\VAE_LSTM_FL_Quang\\codes_fl\\base.py:124: The name tf.train.AdamOptimizer is deprecated. Please use tf.compat.v1.train.AdamOptimizer instead.\n",
      "\n",
      "gvs for dataset: [(<tf.Tensor 'gradients/encoder_Global/dense/Tensordot/transpose_1_grad/transpose:0' shape=(1, 10) dtype=float32>, <tf.Variable 'encoder_Global/dense/kernel:0' shape=(1, 10) dtype=float32_ref>), (<tf.Tensor 'gradients/encoder_Global/dense/BiasAdd_grad/tuple/control_dependency_1:0' shape=(10,) dtype=float32>, <tf.Variable 'encoder_Global/dense/bias:0' shape=(10,) dtype=float32_ref>), (<tf.Tensor 'gradients/encoder_Global/dense_1/MatMul_grad/tuple/control_dependency_1:0' shape=(240, 24) dtype=float32>, <tf.Variable 'encoder_Global/dense_1/kernel:0' shape=(240, 24) dtype=float32_ref>), (<tf.Tensor 'gradients/encoder_Global/dense_1/BiasAdd_grad/tuple/control_dependency_1:0' shape=(24,) dtype=float32>, <tf.Variable 'encoder_Global/dense_1/bias:0' shape=(24,) dtype=float32_ref>), (<tf.Tensor 'gradients/encoder_Global/code_mean/MatMul_grad/tuple/control_dependency_1:0' shape=(24, 6) dtype=float32>, <tf.Variable 'encoder_Global/code_mean/kernel:0' shape=(24, 6) dtype=float32_ref>), (<tf.Tensor 'gradients/encoder_Global/code_mean/BiasAdd_grad/tuple/control_dependency_1:0' shape=(6,) dtype=float32>, <tf.Variable 'encoder_Global/code_mean/bias:0' shape=(6,) dtype=float32_ref>), (<tf.Tensor 'gradients/encoder_Global/code_std_dev/MatMul_grad/tuple/control_dependency_1:0' shape=(24, 6) dtype=float32>, <tf.Variable 'encoder_Global/code_std_dev/kernel:0' shape=(24, 6) dtype=float32_ref>), (<tf.Tensor 'gradients/encoder_Global/code_std_dev/BiasAdd_grad/tuple/control_dependency_1:0' shape=(6,) dtype=float32>, <tf.Variable 'encoder_Global/code_std_dev/bias:0' shape=(6,) dtype=float32_ref>), (<tf.Tensor 'gradients/decoder_Global/dense/MatMul_grad/tuple/control_dependency_1:0' shape=(6, 24) dtype=float32>, <tf.Variable 'decoder_Global/dense/kernel:0' shape=(6, 24) dtype=float32_ref>), (<tf.Tensor 'gradients/decoder_Global/dense/BiasAdd_grad/tuple/control_dependency_1:0' shape=(24,) dtype=float32>, <tf.Variable 'decoder_Global/dense/bias:0' shape=(24,) dtype=float32_ref>), (<tf.Tensor 'gradients/decoder_Global/dense_1/MatMul_grad/tuple/control_dependency_1:0' shape=(24, 10) dtype=float32>, <tf.Variable 'decoder_Global/dense_1/kernel:0' shape=(24, 10) dtype=float32_ref>), (<tf.Tensor 'gradients/decoder_Global/dense_1/BiasAdd_grad/tuple/control_dependency_1:0' shape=(10,) dtype=float32>, <tf.Variable 'decoder_Global/dense_1/bias:0' shape=(10,) dtype=float32_ref>), (<tf.Tensor 'gradients/decoder_Global/dense_2/MatMul_grad/tuple/control_dependency_1:0' shape=(10, 24) dtype=float32>, <tf.Variable 'decoder_Global/dense_2/kernel:0' shape=(10, 24) dtype=float32_ref>), (<tf.Tensor 'gradients/decoder_Global/dense_2/BiasAdd_grad/tuple/control_dependency_1:0' shape=(24,) dtype=float32>, <tf.Variable 'decoder_Global/dense_2/bias:0' shape=(24,) dtype=float32_ref>)]\n",
      "Reach the definition of loss for VAE\n",
      "WARNING:tensorflow:From D:\\Future Internet Lab\\VAE_LSTM_FL_Quang\\codes_fl\\base.py:140: The name tf.train.Saver is deprecated. Please use tf.compat.v1.train.Saver instead.\n",
      "\n",
      "WARNING:tensorflow:From D:\\Future Internet Lab\\VAE_LSTM_FL_Quang\\codes_fl\\base.py:149: The name tf.global_variables_initializer is deprecated. Please use tf.compat.v1.global_variables_initializer instead.\n",
      "\n",
      "WARNING:tensorflow:From D:\\Future Internet Lab\\VAE_LSTM_FL_Quang\\codes_fl\\base.py:150: The name tf.local_variables_initializer is deprecated. Please use tf.compat.v1.local_variables_initializer instead.\n",
      "\n",
      "checkpoint_dir at loading: ../experiments/local-results/RerunDense/TEK/batch-32\\RerunDense-TEK-24-12-6-fixedSigma-0.1\\checkpoint/Global\n",
      "Loading model checkpoint ../experiments/local-results/RerunDense/TEK/batch-32\\RerunDense-TEK-24-12-6-fixedSigma-0.1\\checkpoint/Global\\-0 ...\n",
      "\n",
      "INFO:tensorflow:Restoring parameters from ../experiments/local-results/RerunDense/TEK/batch-32\\RerunDense-TEK-24-12-6-fixedSigma-0.1\\checkpoint/Global\\-0\n",
      "Model loaded.\n"
     ]
    }
   ],
   "source": [
    "# load VAE model\n",
    "config = process_config('NAB_config_TEK.json')\n",
    "# Neu chay scada(old) phai sua lai ten dataset, ten experiment va de n_channel=6\n",
    "# create the experiments dirs\n",
    "create_dirs([config['result_dir'], config['checkpoint_dir']])\n",
    "# create tensorflow session\n",
    "sess = tf.Session(config=tf.ConfigProto(log_device_placement=True))\n",
    "# create your data generator # neu co nhieu file phai chinh cho nay\n",
    "config1 = config\n",
    "config1['dataset'] = 'TEK17'\n",
    "data = DataGenerator(config1)\n",
    "# create a CNN model\n",
    "model_vae = VAEmodel(config, \"Global\")\n",
    "# create a CNN model\n",
    "trainer_vae = vaeTrainer(sess, model_vae, data, config)\n",
    "model_vae.load(sess)"
   ]
  },
  {
   "cell_type": "code",
   "execution_count": 6,
   "metadata": {},
   "outputs": [
    {
     "name": "stdout",
     "output_type": "stream",
     "text": [
      "WARNING:tensorflow:From D:\\anaconda3\\envs\\vae_lstm\\lib\\site-packages\\tensorflow_core\\python\\ops\\resource_variable_ops.py:1630: calling BaseResourceVariable.__init__ (from tensorflow.python.ops.resource_variable_ops) with constraint is deprecated and will be removed in a future version.\n",
      "Instructions for updating:\n",
      "If using Keras pass *_constraint arguments to layers.\n",
      "Finish processing the embeddings of the entire dataset of Global.\n",
      "Model: \"model_1\"\n",
      "_________________________________________________________________\n",
      "Layer (type)                 Output Shape              Param #   \n",
      "=================================================================\n",
      "input_2 (InputLayer)         [(None, 11, 6)]           0         \n",
      "_________________________________________________________________\n",
      "lstm_3 (LSTM)                (None, 11, 64)            18176     \n",
      "_________________________________________________________________\n",
      "lstm_4 (LSTM)                (None, 11, 64)            33024     \n",
      "_________________________________________________________________\n",
      "lstm_5 (LSTM)                (None, 11, 6)             1704      \n",
      "=================================================================\n",
      "Total params: 52,904\n",
      "Trainable params: 52,904\n",
      "Non-trainable params: 0\n",
      "_________________________________________________________________\n",
      "../experiments/local-results/RerunDense/TEK/batch-32\\RerunDense-TEK-24-12-6-fixedSigma-0.1\\checkpoint/lstm/checkpoint\n",
      "LSTM model loaded.\n"
     ]
    }
   ],
   "source": [
    "# load LSTM model\n",
    "lstm_model = lstmKerasModel(\"Global\",config)\n",
    "lstm_model.produce_embeddings(model_vae, data, sess)\n",
    "lstm_nn_model = lstm_model.create_lstm_model()\n",
    "lstm_nn_model.summary()   # Display the model's architecture\n",
    "\n",
    "# checkpoint path\n",
    "checkpoint_path = config['checkpoint_dir_lstm'] + \"cp_Global.ckpt\"\n",
    "checkpoint_dir = os.path.dirname(checkpoint_path)\n",
    "# Create a callback that saves the model's weights\n",
    "cp_callback = tf.keras.callbacks.ModelCheckpoint(filepath=checkpoint_path,\n",
    "                                                 save_weights_only=True,\n",
    "                                                 verbose=1)\n",
    "# load weights if possible\n",
    "lstm_model.load_model(lstm_nn_model, checkpoint_path)"
   ]
  },
  {
   "cell_type": "code",
   "execution_count": 7,
   "metadata": {},
   "outputs": [
    {
     "data": {
      "text/plain": [
       "'../experiments/local-results/RerunDense/TEK/batch-32\\\\RerunDense-TEK-24-12-6-fixedSigma-0.1\\\\checkpoint/lstm/cp_Global.ckpt'"
      ]
     },
     "execution_count": 7,
     "metadata": {},
     "output_type": "execute_result"
    }
   ],
   "source": [
    "checkpoint_path"
   ]
  },
  {
   "cell_type": "code",
   "execution_count": 8,
   "metadata": {},
   "outputs": [
    {
     "name": "stdout",
     "output_type": "stream",
     "text": [
      "The given sequence has 926 samples\n",
      "(903, 24, 1)\n",
      "(639, 12, 24, 1)\n"
     ]
    }
   ],
   "source": [
    "# load normalised time series\n",
    "save_dir = '../datasets/NAB-known-anomaly/'\n",
    "dataset = config['dataset']\n",
    "filename = '{}.npz'.format(dataset)\n",
    "result = dict(np.load(save_dir+filename, allow_pickle=True))\n",
    "if dataset == 'machine_temp':\n",
    "    result['test'] = result['test'][0]\n",
    "    result['idx_anomaly_test'] = result['idx_anomaly_test'][0]\n",
    "    result['t_test'] = result['t_test'][0]\n",
    "\n",
    "def slice_rolling_windows_and_sequences(config, time_seq):\n",
    "    n_sample = len(time_seq)\n",
    "    time_seq = np.reshape(time_seq,(-1,config['n_channel']))\n",
    "    print(\"The given sequence has {} samples\".format(n_sample))\n",
    "    n_vae_win = n_sample - config['l_win'] + 1\n",
    "    shape = [n_vae_win, config['l_win'], config['n_channel']]\n",
    "    stride_ori = time_seq.strides\n",
    "    strides = np.insert(stride_ori, 0, stride_ori[0], axis = 0)\n",
    "    #rolling_windows = np.zeros((n_vae_win, config['l_win'], config['n_channel']))\n",
    "    rolling_windows = np.lib.stride_tricks.as_strided(time_seq,shape, strides, writeable = False)\n",
    "    #for i in range(n_vae_win):\n",
    "    #    rolling_windows[i] = time_seq[i:i + config['l_win']]\n",
    "    sample_m = np.mean(rolling_windows, axis=1)\n",
    "    sample_std = np.std(rolling_windows, axis=1)\n",
    "    n_lstm_seq = n_sample - config['l_seq']*config['l_win']+1\n",
    "    shape = [n_lstm_seq, config['l_seq'], config['l_win'], config['n_channel']]\n",
    "    strides = np.insert(stride_ori, 0, [stride_ori[-1], stride_ori[0]*config['l_win']], axis = 0)\n",
    "    lstm_seq = np.lib.stride_tricks.as_strided(time_seq,shape, strides, writeable = False)\n",
    "    #lstm_seq = np.zeros((n_lstm_seq, config['l_seq'], config['l_win'], config['n_channel']))\n",
    "    #for i in range(n_lstm_seq):\n",
    "    #    cur_seq = time_seq[i:i+config['l_seq']*config['l_win']]\n",
    "    #    for j in range(config['l_seq']):\n",
    "    #        lstm_seq[i,j] = cur_seq[config['l_win']*j:config['l_win']*(j+1)]\n",
    "    \n",
    "    return rolling_windows, lstm_seq, sample_m, sample_std\n",
    "\n",
    "test_windows, test_seq, test_sample_m, test_sample_std = slice_rolling_windows_and_sequences(config, result['test'])\n",
    "test_windows = np.reshape(test_windows, (-1,config['l_win'],config['n_channel']))\n",
    "test_seq = np.reshape(test_seq, (-1,config['l_seq'],config['l_win'],config['n_channel']))\n",
    "print(test_windows.shape)\n",
    "print(test_seq.shape)"
   ]
  },
  {
   "cell_type": "code",
   "execution_count": 9,
   "metadata": {},
   "outputs": [
    {
     "data": {
      "text/plain": [
       "(12, 24, 1)"
      ]
     },
     "execution_count": 9,
     "metadata": {},
     "output_type": "execute_result"
    }
   ],
   "source": [
    "data.val_set_lstm['data'][23].shape"
   ]
  },
  {
   "cell_type": "code",
   "execution_count": 10,
   "metadata": {},
   "outputs": [],
   "source": [
    "# Evaluate ELBO and LSTM prediction error on the validation set\n",
    "# evaluate some anomaly detection metrics\n",
    "def evaluate_vae_anomaly_metrics_for_a_window(test_win):\n",
    "    feed_dict = {model_vae.original_signal: np.expand_dims(test_win, 0),\n",
    "                 model_vae.is_code_input: False,\n",
    "                 model_vae.code_input: np.zeros((1, config['code_size']))}\n",
    "\n",
    "    # VAE reconstruction error\n",
    "    recons_win_vae = np.squeeze(sess.run(model_vae.decoded, feed_dict=feed_dict))\n",
    "    test_vae_recons_error = np.sum(np.square(recons_win_vae - test_win))\n",
    "\n",
    "    # VAE latent embedding likelihood\n",
    "    vae_code_mean, vae_code_std = sess.run([model_vae.code_mean, model_vae.code_std_dev], feed_dict=feed_dict)\n",
    "    test_vae_kl = 0.5 * (np.sum(np.square(vae_code_mean)) + \\\n",
    "                            np.sum(np.square(vae_code_std)) - \\\n",
    "                            np.sum(np.log(np.square(vae_code_std))) - config['code_size'])\n",
    "\n",
    "    # VAE ELBO loss\n",
    "    sigma2 = 0.0005\n",
    "    input_dims = model_vae.input_dims\n",
    "    sigma_regularisor = input_dims/2. * np.log(sigma2) + input_dims * np.pi\n",
    "    test_vae_elbo = test_vae_recons_error/sigma2 + test_vae_kl + sigma_regularisor\n",
    "    return test_vae_recons_error, test_vae_kl, test_vae_elbo\n",
    "\n",
    "def evaluate_lstm_anomaly_metric_for_a_seq(test_seq):\n",
    "    feed_dict = {model_vae.original_signal: test_seq,\n",
    "                 model_vae.is_code_input: False,\n",
    "                 model_vae.code_input: np.zeros((1, config['code_size']))}\n",
    "    vae_embedding = np.squeeze(sess.run(model_vae.code_mean, feed_dict=feed_dict))\n",
    "    #print(vae_embedding.shape)\n",
    "    lstm_embedding = np.squeeze(lstm_nn_model.predict(np.expand_dims(vae_embedding[:config['l_seq']-1], 0), batch_size=1))\n",
    "    lstm_embedding_error = np.sum(np.square(vae_embedding[1:] - lstm_embedding))\n",
    "    #print(\"old error shape:\", (vae_embedding[1:] - lstm_embedding).shape)\n",
    "    #error_embed_abs = np.abs(vae_embedding[1:] - lstm_embedding)\n",
    "    #error_embed_sq = np.square(vae_embedding[1:] - lstm_embedding)\n",
    "    # LSTM prediction error\n",
    "    feed_dict_lstm = {model_vae.original_signal: np.zeros((config['l_seq'] - 1, config['l_win'], config['n_channel'])), #them n_channel o day\n",
    "                      model_vae.is_code_input: True,\n",
    "                      model_vae.code_input: lstm_embedding}\n",
    "    recons_win_lstm = np.squeeze(sess.run(model_vae.decoded, feed_dict=feed_dict_lstm))\n",
    "    #print(\"recons win shape: \",recons_win_lstm.shape)\n",
    "    lstm_recons_error = np.sum(np.square(recons_win_lstm - np.squeeze(test_seq[1:])))\n",
    "    error_recons_abs = np.abs(recons_win_lstm - np.squeeze(test_seq[1:])).reshape((config['l_seq']-1,-1)) #them dong nay de tinh OCSVM\n",
    "    #error_recons_sq = np.square(recons_win_lstm - np.squeeze(test_seq[1:])).reshape((config['l_seq']-1,-1)) #them dong nay de tinh OCSVM\n",
    "    return lstm_recons_error, lstm_embedding_error, error_recons_abs\n",
    "\n",
    "n_val_vae = data.val_set_vae['data'].shape[0]\n",
    "n_val_lstm = data.val_set_lstm['data'].shape[0]\n",
    "\n",
    "val_vae_recons_error = np.zeros(n_val_vae)\n",
    "val_vae_kl_error = np.zeros(n_val_vae)\n",
    "val_vae_elbo_loss = np.zeros(n_val_vae)\n",
    "for i in range(n_val_vae):\n",
    "    val_vae_recons_error[i], val_vae_kl_error[i], val_vae_elbo_loss[i] = evaluate_vae_anomaly_metrics_for_a_window(data.val_set_vae['data'][i])\n",
    "\n",
    "val_lstm_recons_error, val_lstm_embedding_error = np.zeros(n_val_lstm), np.zeros(n_val_lstm)\n",
    "#val_lstm_embed_abs = np.zeros((n_val_lstm,config['l_seq']-1,config['code_size'])) #them de tinh OCSVM\n",
    "#val_lstm_embed_sq = np.zeros((n_val_lstm,config['l_seq']-1,config['code_size'])) #them de tinh OCSVM\n",
    "val_lstm_recons_abs = np.zeros((n_val_lstm,config['l_seq']-1,config['l_win']*config['n_channel'])) #them de tinh OCSVM\n",
    "#val_lstm_recons_sq = np.zeros((n_val_lstm,config['l_seq']-1,config['l_win']*config['n_channel'])) #them de tinh OCSVM\n",
    "for i in range(n_val_lstm):\n",
    "    val_lstm_recons_error[i], val_lstm_embedding_error[i], val_lstm_recons_abs[i] = evaluate_lstm_anomaly_metric_for_a_seq(data.val_set_lstm['data'][i])\n",
    "    \n",
    "#them de thu chay OCSVM\n",
    "n_train_lstm = data.train_set_lstm['data'].shape[0]\n",
    "train_lstm_recons_error, train_lstm_embedding_error = np.zeros(n_train_lstm), np.zeros(n_train_lstm)\n",
    "#train_lstm_embed_abs = np.zeros((n_train_lstm,config['l_seq']-1,config['code_size'])) #them de tinh OCSVM\n",
    "#train_lstm_embed_sq = np.zeros((n_train_lstm,config['l_seq']-1,config['code_size'])) #them de tinh OCSVM\n",
    "train_lstm_recons_abs = np.zeros((n_train_lstm,config['l_seq']-1,config['l_win']*config['n_channel'])) #them de tinh OCSVM\n",
    "#train_lstm_recons_sq = np.zeros((n_train_lstm,config['l_seq']-1,config['l_win']*config['n_channel'])) #them de tinh OCSVM\n",
    "for i in range(n_train_lstm):\n",
    "    train_lstm_recons_error[i], train_lstm_embedding_error[i], train_lstm_recons_abs[i] = evaluate_lstm_anomaly_metric_for_a_seq(data.train_set_lstm['data'][i])"
   ]
  },
  {
   "cell_type": "code",
   "execution_count": 11,
   "metadata": {},
   "outputs": [],
   "source": [
    "from scipy.stats import norm\n",
    "def plot_histogram(test_anomaly_metric, n_bins, title, mean=None, std=None, xlim=None, saveplot=True):\n",
    "    test_anomaly_list = np.squeeze(np.ndarray.flatten(test_anomaly_metric))\n",
    "    his = plt.hist(test_anomaly_list, bins=n_bins, density=True)\n",
    "    if mean is None and std is None:\n",
    "        mean = np.mean(test_anomaly_list)\n",
    "        std = np.std(test_anomaly_list)\n",
    "        legend_label = None\n",
    "    else:\n",
    "        legend_label = 1\n",
    "    x_axis = np.arange(mean-5*std, mean+5*std, std/100)\n",
    "    plt.plot(x_axis, norm.pdf(x_axis,mean,std))\n",
    "    plt.title(title)\n",
    "    plt.xlabel('anomaly score value')\n",
    "    plt.ylabel('probability density')\n",
    "    if xlim is not None:\n",
    "        plt.xlim(0, xlim)\n",
    "    else:\n",
    "        plt.xlim(0, np.amax(test_anomaly_list))\n",
    "    if legend_label is None:\n",
    "        plt.legend(('Fitted Gaussian', 'histogram'))\n",
    "    else:\n",
    "        plt.legend(('normal data distribution','test data distribution (contain anomalies)'))\n",
    "    if saveplot:\n",
    "        savefig(config['result_dir'] + title + '.pdf')\n",
    "    else:\n",
    "        plt.show()\n",
    "    threshold_25 = np.percentile(test_anomaly_list, 25)\n",
    "    threshold_75 = np.percentile(test_anomaly_list, 75)\n",
    "    threshold_1 = np.percentile(test_anomaly_list, 99)\n",
    "    idx_large_error = np.squeeze(np.argwhere(test_anomaly_metric > threshold_1))\n",
    "#     print(his[0][-20:])\n",
    "#     print(his[1][-20:])\n",
    "    print(\"25% percentile: {}\".format(threshold_25))\n",
    "    print(\"75% percentile: {}\".format(threshold_75))\n",
    "#     print(\"Median: {}\".format(np.median(test_anomaly_list)))\n",
    "#     print(\"Mean: {}\".format(np.mean(test_anomaly_list)))\n",
    "#     print(\"Std dev: {}\".format(np.std(test_anomaly_list)))\n",
    "    print(\"These windows scored the top 1% of anomaly metric ({}): \\n{}\".format(threshold_1, idx_large_error))\n",
    "    return mean, std"
   ]
  },
  {
   "cell_type": "code",
   "execution_count": 12,
   "metadata": {},
   "outputs": [
    {
     "name": "stdout",
     "output_type": "stream",
     "text": [
      "25% percentile: 4753.190914610942\n",
      "75% percentile: 24434.57705948324\n",
      "These windows scored the top 1% of anomaly metric (278992.6049177238): \n",
      "[ 73  96 196]\n"
     ]
    },
    {
     "data": {
      "image/png": "[encoded data removed]",
      "text/plain": [
       "<Figure size 432x288 with 1 Axes>"
      ]
     },
     "metadata": {
      "needs_background": "light"
     },
     "output_type": "display_data"
    }
   ],
   "source": [
    "# Histogram of VAE ELBO loss - validation set\n",
    "vae_elbo_m, vae_elbo_std = plot_histogram(val_vae_elbo_loss, 100, \n",
    "                                          'VAE ELBO error distribution on the val set', \n",
    "                                          mean=None, std=None, xlim=None, saveplot=True)"
   ]
  },
  {
   "cell_type": "code",
   "execution_count": 13,
   "metadata": {},
   "outputs": [
    {
     "name": "stdout",
     "output_type": "stream",
     "text": [
      "25% percentile: 8.622979912190349\n",
      "75% percentile: 37.893251460267635\n",
      "These windows scored the top 1% of anomaly metric (64.7776297406527): \n",
      "[  70   84  144  201  205  293  417  522  633  693  759  861 1039 1055\n",
      " 1094 1135 1486]\n"
     ]
    },
    {
     "data": {
      "image/png": "[encoded data removed]",
      "text/plain": [
       "<Figure size 432x288 with 1 Axes>"
      ]
     },
     "metadata": {
      "needs_background": "light"
     },
     "output_type": "display_data"
    }
   ],
   "source": [
    "# Histogram of LSTM reconstruction error - train set \n",
    "#  --> to decide the anomaly detection threshold\n",
    "lstm_recons_m_train, lstm_recons_std_train = plot_histogram(train_lstm_recons_error, 100,  \n",
    "                                              'LSTM reconstruction error distribution on the train set', \n",
    "                                              mean=None, std=None, xlim=None, saveplot=True)"
   ]
  },
  {
   "cell_type": "code",
   "execution_count": 14,
   "metadata": {},
   "outputs": [
    {
     "name": "stdout",
     "output_type": "stream",
     "text": [
      "25% percentile: 8.641032129111228\n",
      "75% percentile: 37.8866330990756\n",
      "These windows scored the top 1% of anomaly metric (57.97019936252854): \n",
      "[140 161]\n"
     ]
    },
    {
     "data": {
      "image/png": "[encoded data removed]",
      "text/plain": [
       "<Figure size 432x288 with 1 Axes>"
      ]
     },
     "metadata": {
      "needs_background": "light"
     },
     "output_type": "display_data"
    }
   ],
   "source": [
    "# Histogram of LSTM reconstruction error - validation set \n",
    "#  --> to decide the anomaly detection threshold\n",
    "lstm_recons_m_val, lstm_recons_std_val = plot_histogram(val_lstm_recons_error, 100,  \n",
    "                                              'LSTM reconstruction error distribution on the val set', \n",
    "                                              mean=None, std=None, xlim=None, saveplot=True)"
   ]
  },
  {
   "cell_type": "code",
   "execution_count": 15,
   "metadata": {},
   "outputs": [
    {
     "name": "stdout",
     "output_type": "stream",
     "text": [
      "All windows' reconstruction error is computed.\n",
      "The total number of windows is 639\n"
     ]
    }
   ],
   "source": [
    "# Evaluate the anomaly metrics on the test windows and sequences\n",
    "n_test_lstm = test_seq.shape[0]\n",
    "\n",
    "test_lstm_recons_error, test_lstm_embedding_error = np.zeros(n_test_lstm), np.zeros(n_test_lstm)\n",
    "#test_lstm_embed_abs = np.zeros((n_test_lstm,config['l_seq']-1,config['code_size'])) #them de tinh OCSVM\n",
    "#test_lstm_embed_sq = np.zeros((n_test_lstm,config['l_seq']-1,config['code_size'])) #them de tinh OCSVM\n",
    "test_lstm_recons_abs = np.zeros((n_test_lstm,config['l_seq']-1,config['l_win']*config['n_channel'])) #them de tinh OCSVM\n",
    "#test_lstm_recons_sq = np.zeros((n_test_lstm,config['l_seq']-1,config['l_win']*config['n_channel'])) #them de tinh OCSVM\n",
    "for i in range(n_test_lstm):\n",
    "    test_lstm_recons_error[i], test_lstm_embedding_error[i], test_lstm_recons_abs[i] = evaluate_lstm_anomaly_metric_for_a_seq(test_seq[i])\n",
    "print(\"All windows' reconstruction error is computed.\")\n",
    "print(\"The total number of windows is {}\".format(len(test_lstm_recons_error)))"
   ]
  },
  {
   "cell_type": "code",
   "execution_count": 16,
   "metadata": {
    "scrolled": true
   },
   "outputs": [
    {
     "name": "stdout",
     "output_type": "stream",
     "text": [
      "25% percentile: 9.539408799827717\n",
      "75% percentile: 69.29790635497625\n",
      "These windows scored the top 1% of anomaly metric (115.30741314082032): \n",
      "[519 520 521 545 591 592 593]\n"
     ]
    },
    {
     "data": {
      "image/png": "[encoded data removed]",
      "text/plain": [
       "<Figure size 432x288 with 1 Axes>"
      ]
     },
     "metadata": {
      "needs_background": "light"
     },
     "output_type": "display_data"
    }
   ],
   "source": [
    "# Histogram of LSTM reconstruction error - test set \n",
    "#  --> to detect anomaly now\n",
    "_, _ = plot_histogram(test_lstm_recons_error, 100,\n",
    "                      'LSTM reconstruction error distribution on the test set', \n",
    "                      mean=lstm_recons_m_val, std=lstm_recons_std_val, xlim=None, saveplot=True)"
   ]
  },
  {
   "cell_type": "code",
   "execution_count": 17,
   "metadata": {},
   "outputs": [
    {
     "name": "stdout",
     "output_type": "stream",
     "text": [
      "(639,)\n"
     ]
    }
   ],
   "source": [
    "# Produce the ground truth anomaly indices \n",
    "# if result['idx_split'][0] == 0:\n",
    "#     idx_anomaly_test = result['idx_anomaly_test']\n",
    "# else:\n",
    "#     idx_anomaly_test = result['idx_anomaly_test'][0]\n",
    "idx_anomaly_test = result['idx_anomaly_test']    \n",
    "anomaly_index_lstm = []\n",
    "test_labels_lstm = np.zeros(n_test_lstm)\n",
    "for i in range(len(idx_anomaly_test)):\n",
    "    idx_start = idx_anomaly_test[i]-(config['l_win']*config['l_seq']-1)\n",
    "    idx_end = idx_anomaly_test[i]+1\n",
    "    if idx_start < 0:\n",
    "        idx_start = 0\n",
    "    if idx_end > n_test_lstm:\n",
    "        idx_end = n_test_lstm\n",
    "    anomaly_index_lstm.append(np.arange(idx_start,idx_end))\n",
    "    test_labels_lstm[int(idx_start):int(idx_end)] = 1\n",
    "    \n",
    "print(test_labels_lstm.shape)"
   ]
  },
  {
   "cell_type": "code",
   "execution_count": 18,
   "metadata": {},
   "outputs": [
    {
     "name": "stdout",
     "output_type": "stream",
     "text": [
      "(17.359370590623, 62.711178078297856, 40.85146492304926, 24.9931880216901, 25.829297297651404)\n",
      "(23.10875946654093, 25.84501801521604, 33.42051746870976, 16.997777500142217, 16.236946136193136)\n"
     ]
    },
    {
     "data": {
      "image/png": "[encoded data removed]",
      "text/plain": [
       "<Figure size 432x288 with 1 Axes>"
      ]
     },
     "metadata": {
      "needs_background": "light"
     },
     "output_type": "display_data"
    }
   ],
   "source": [
    "test_normal_idx = np.squeeze(np.argwhere(test_labels_lstm==0))\n",
    "test_anomaly_idx = np.squeeze(np.argwhere(test_labels_lstm==1))\n",
    "test_lstm_recons_error_normal = test_lstm_recons_error[test_normal_idx]\n",
    "test_lstm_recons_error_anomaly = test_lstm_recons_error[test_anomaly_idx]\n",
    "lstm_recons_m_test_normal = np.mean(test_lstm_recons_error_normal)\n",
    "lstm_recons_std_test_normal = np.std(test_lstm_recons_error_normal)\n",
    "lstm_recons_m_test_anomaly = np.mean(test_lstm_recons_error_anomaly)\n",
    "lstm_recons_std_test_anomaly = np.std(test_lstm_recons_error_anomaly)\n",
    "lstm_recons_m_test = np.mean(test_lstm_recons_error)\n",
    "lstm_recons_std_test = np.std(test_lstm_recons_error)\n",
    "\n",
    "means = (lstm_recons_m_test_normal, lstm_recons_m_test_anomaly, lstm_recons_m_test, lstm_recons_m_train, lstm_recons_m_val)\n",
    "stds = (lstm_recons_std_test_normal, lstm_recons_std_test_anomaly, lstm_recons_std_test, lstm_recons_std_train, lstm_recons_std_val)\n",
    "for mean,std in zip(means,stds):\n",
    "    x_axis = np.arange(mean-5*std, mean+5*std, std/100)\n",
    "    #x_axis = np.arange(-10000,10000)\n",
    "    plt.plot(x_axis, norm.pdf(x_axis,mean,std))\n",
    "plt.legend(('test_norm', 'test_anomaly', 'test', 'train', 'val')) \n",
    "#plt.xscale('symlog')\n",
    "#plt.yscale('log')\n",
    "plt.title(\"Distribution of different sets on \" + config['dataset'])\n",
    "#print(lstm_recons_m_test,lstm_recons_std_test)\n",
    "#print(lstm_recons_m_val,lstm_recons_std_val)\n",
    "#print(lstm_recons_m_test_normal,lstm_recons_m_test_normal)\n",
    "print(means)\n",
    "print(stds)"
   ]
  },
  {
   "cell_type": "code",
   "execution_count": 19,
   "metadata": {},
   "outputs": [],
   "source": [
    "def return_anomaly_idx_by_threshold(test_anomaly_metric, threshold):\n",
    "    test_list = np.squeeze(np.ndarray.flatten(test_anomaly_metric))\n",
    "    idx_error = np.squeeze(np.argwhere(test_anomaly_metric > threshold))\n",
    "    \n",
    "    if len(idx_error.shape) == 0:\n",
    "        idx_error = np.expand_dims(idx_error, 0)\n",
    "    \n",
    "    return list(idx_error)"
   ]
  },
  {
   "cell_type": "code",
   "execution_count": 20,
   "metadata": {},
   "outputs": [],
   "source": [
    "def augment_detected_idx(idx_detected_anomaly, anomaly_index):\n",
    "    n_anomaly = len(anomaly_index)\n",
    "    idx_detected_anomaly_extended = list(idx_detected_anomaly)\n",
    "    for i in range(n_anomaly):\n",
    "        #print(idx_detected_anomaly)\n",
    "        for j in idx_detected_anomaly:\n",
    "            if j in anomaly_index[i]:\n",
    "                in_original_detection = set(idx_detected_anomaly_extended)\n",
    "                currect_anomaly_win = set(anomaly_index[i])\n",
    "                idx_detected_anomaly_extended = idx_detected_anomaly_extended + list(currect_anomaly_win - in_original_detection)\n",
    "                #print(j)\n",
    "                break\n",
    "                \n",
    "    return list(np.sort(idx_detected_anomaly_extended))"
   ]
  },
  {
   "cell_type": "code",
   "execution_count": 21,
   "metadata": {},
   "outputs": [],
   "source": [
    "def count_TP_FP_FN(idx_detected_anomaly, anomaly_index, test_labels):\n",
    "    n_TP = 0\n",
    "    n_FP = 0\n",
    "    n_detection = len(idx_detected_anomaly)\n",
    "    for i in range(n_detection):\n",
    "        if test_labels[idx_detected_anomaly[i]] == 1:\n",
    "            n_TP = n_TP + 1\n",
    "        else:\n",
    "            n_FP = n_FP + 1 #both branch the same?\n",
    "    \n",
    "    idx_undetected = list(set(np.arange(len(test_labels)))- set(idx_detected_anomaly))\n",
    "    n_FN = 0\n",
    "    for i in idx_undetected:\n",
    "        if test_labels[i] == 1:\n",
    "            n_FN = n_FN + 1\n",
    "    n_TN = len(test_labels) - n_TP - n_FP - n_FN\n",
    "    return n_TP, n_FP, n_FN, n_TN"
   ]
  },
  {
   "cell_type": "code",
   "execution_count": 22,
   "metadata": {},
   "outputs": [],
   "source": [
    "def compute_precision_and_recall(idx_detected_anomaly, anomaly_index, test_labels):\n",
    "    # compute true positive\n",
    "    n_TP, n_FP, n_FN, n_TN = count_TP_FP_FN(idx_detected_anomaly, anomaly_index, test_labels)\n",
    "    \n",
    "    if n_TP + n_FP == 0:\n",
    "        precision = 1\n",
    "    else:\n",
    "        precision = n_TP / (n_TP + n_FP)\n",
    "    recall = n_TP / (n_TP + n_FN)\n",
    "    if precision + recall == 0:\n",
    "        F1 = 0\n",
    "    else:\n",
    "        F1 = 2* (precision * recall)/(precision + recall)\n",
    "    fpr = n_FP/(n_FP + n_TN)  \n",
    "    return precision, recall, F1, fpr, n_TP, n_FP, n_FN"
   ]
  },
  {
   "cell_type": "code",
   "execution_count": 23,
   "metadata": {},
   "outputs": [],
   "source": [
    "n_threshold = 25\n",
    "precision = np.zeros(n_threshold)\n",
    "recall = np.zeros(n_threshold)\n",
    "F1 = np.zeros(n_threshold)\n",
    "precision_aug = np.zeros(n_threshold)\n",
    "recall_aug = np.zeros(n_threshold)\n",
    "F1_aug = np.zeros(n_threshold)\n",
    "fpr_aug = np.zeros(n_threshold)\n",
    "i = 0\n",
    "threshold_list = np.linspace(np.amin(test_lstm_recons_error), np.amax(test_lstm_recons_error), n_threshold, endpoint=True)\n",
    "threshold_list = np.flip(threshold_list)\n",
    "for threshold in threshold_list:\n",
    "    #print(threshold_list[i])\n",
    "    idx_detection_lstm = return_anomaly_idx_by_threshold(test_lstm_recons_error, threshold)\n",
    "    precision[i], recall[i], F1[i], _, _, _, _ = compute_precision_and_recall(idx_detection_lstm, \n",
    "                                                                           anomaly_index_lstm, \n",
    "                                                                           test_labels_lstm)\n",
    "    # augment the detection using the ground truth labels\n",
    "    # a method to discount the factor one anomaly appears in multiple consecutive windows\n",
    "    # introduced in \"Unsupervised anomaly detection via variational auto-encoder for seasonal kpis in web applications\"\n",
    "    idx_detection_lstm_augmented = augment_detected_idx(idx_detection_lstm, anomaly_index_lstm)\n",
    "    precision_aug[i], recall_aug[i], F1_aug[i], fpr_aug[i], _, _, _ = compute_precision_and_recall(idx_detection_lstm_augmented, \n",
    "                                                                                       anomaly_index_lstm, \n",
    "                                                                                       test_labels_lstm)\n",
    "    i = i + 1\n",
    "    #print(precision, recall, F1)"
   ]
  },
  {
   "cell_type": "code",
   "execution_count": 24,
   "metadata": {},
   "outputs": [
    {
     "name": "stdout",
     "output_type": "stream",
     "text": [
      "AUC = 0.9171930788244987\n"
     ]
    },
    {
     "data": {
      "image/png": "[encoded data removed]",
      "text/plain": [
       "<Figure size 432x288 with 1 Axes>"
      ]
     },
     "metadata": {
      "needs_background": "light"
     },
     "output_type": "display_data"
    }
   ],
   "source": [
    "from sklearn import metrics\n",
    "fpr, tpr, _ = metrics.roc_curve(test_labels_lstm,test_lstm_recons_error, pos_label = 1)\n",
    "auc = metrics.auc(fpr,tpr)\n",
    "print('AUC =', auc)\n",
    "lw = 2\n",
    "plt.plot(fpr, tpr, color='darkorange', lw=lw, label='ROC curve (area = %0.4f)' % auc)\n",
    "plt.plot([0, 1], [0, 1], color='navy', lw=lw, linestyle='--')\n",
    "plt.xlim([0.0, 1.0])\n",
    "plt.ylim([0.0, 1.05])\n",
    "plt.xlabel('False Positive Rate')\n",
    "plt.ylabel('True Positive Rate')\n",
    "plt.title('Receiver operating characteristic of ' + config['dataset'])\n",
    "plt.legend(loc=\"lower right\")\n",
    "savefig(config['result_dir']+ 'roc.pdf')\n",
    "plt.show()"
   ]
  },
  {
   "cell_type": "code",
   "execution_count": 25,
   "metadata": {},
   "outputs": [
    {
     "name": "stdout",
     "output_type": "stream",
     "text": [
      "AUC = 1.0\n"
     ]
    },
    {
     "data": {
      "image/png": "[encoded data removed]",
      "text/plain": [
       "<Figure size 432x288 with 1 Axes>"
      ]
     },
     "metadata": {
      "needs_background": "light"
     },
     "output_type": "display_data"
    }
   ],
   "source": [
    "tpr = np.insert(recall_aug,[0,n_threshold],[0,1])\n",
    "fpr = np.insert(fpr_aug,[0,n_threshold],[0,1])\n",
    "auc = metrics.auc(fpr,tpr)\n",
    "print('AUC =', auc)\n",
    "lw = 2\n",
    "plt.plot(fpr, tpr, color='darkorange', lw=lw, label='ROC curve (area = %0.4f)' % auc)\n",
    "plt.plot([0, 1], [0, 1], color='navy', lw=lw, linestyle='--')\n",
    "plt.xlim([0.0, 1.0])\n",
    "plt.ylim([0.0, 1.05])\n",
    "plt.xlabel('False Positive Rate')\n",
    "plt.ylabel('True Positive Rate')\n",
    "plt.title('Augmented Receiver operating characteristic of ' + config['dataset'])\n",
    "plt.legend(loc=\"lower right\")\n",
    "savefig(config['result_dir']+ 'augmentedroc.pdf')\n",
    "plt.show()"
   ]
  },
  {
   "cell_type": "code",
   "execution_count": 26,
   "metadata": {},
   "outputs": [
    {
     "name": "stdout",
     "output_type": "stream",
     "text": [
      "Best F1 score is 0.9364161849710982\n",
      "Best threshold is 12.001486982627362\n",
      "At this threshold, precision is 0.8975069252077562, recall is 0.9788519637462235\n",
      "Average precision is 0.8595924216772171\n",
      "\n",
      "Augmented detection:\n",
      "Best F1 score is 1.0\n",
      "Best threshold is 113.6569604963413\n",
      "At this threshold, precision is 1.0, recall is 1.0\n",
      "Average precision is 1.0\n"
     ]
    }
   ],
   "source": [
    "print(\"Best F1 score is {}\".format(np.amax(F1)))\n",
    "idx_best_threshold = np.squeeze(np.argwhere(F1 == np.amax(F1)))\n",
    "print(\"Best threshold is {}\".format(threshold_list[idx_best_threshold]))\n",
    "print(\"At this threshold, precision is {}, recall is {}\".format(precision[idx_best_threshold], recall[idx_best_threshold]))\n",
    "average_precision = np.sum(precision[1:] * (recall[1:] - recall[:-1]))\n",
    "print(\"Average precision is {}\".format(average_precision))\n",
    "\n",
    "print(\"\\nAugmented detection:\")\n",
    "print(\"Best F1 score is {}\".format(np.amax(F1_aug)))\n",
    "idx_best_threshold = np.squeeze(np.argwhere(F1_aug == np.amax(F1_aug)))\n",
    "print(\"Best threshold is {}\".format(threshold_list[idx_best_threshold]))\n",
    "best_thres = np.min(threshold_list[idx_best_threshold])\n",
    "print(\"At this threshold, precision is {}, recall is {}\".format(precision_aug[idx_best_threshold], \n",
    "                                                                recall_aug[idx_best_threshold]))\n",
    "\n",
    "average_precision_aug = np.sum(precision_aug[1:] * (recall_aug[1:] - recall_aug[:-1]))\n",
    "print(\"Average precision is {}\".format(average_precision_aug))"
   ]
  },
  {
   "cell_type": "code",
   "execution_count": 27,
   "metadata": {},
   "outputs": [
    {
     "name": "stdout",
     "output_type": "stream",
     "text": [
      "KQp is: 104.80104843573845 with q = 0.05\n",
      "KQp is: 111.92719890717501 with q = 0.025\n",
      "KQp is: 114.97692888049966 with q = 0.01\n"
     ]
    }
   ],
   "source": [
    "import math\n",
    "from scipy.stats import norm\n",
    "\n",
    "def KQp(data,q):\n",
    "#UNTITLED3 Summary of this function goes here\n",
    "#   Detailed explanation goes here\n",
    "    data2 = np.sort(data) #sap xep tang dan\n",
    "    n = np.shape(data2)[0] #kich thuoc\n",
    "    p = 1-q #q tu xet, dat bang smth 0.05 0.025 0.01\n",
    "    h = math.sqrt((p*q)/(n+1));\n",
    "    KQ=0;\n",
    "    for i in range(1,n+1):\n",
    "        a= ((i/n)-p)/h;\n",
    "        b= (((i-1)/n)-p)/h;\n",
    "        TP=(norm.cdf(a)-norm.cdf(b))*data2[i-1]; #normcdf thu trong matlab\n",
    "        KQ=KQ+TP;    \n",
    "    KQp = KQ;\n",
    "    return KQp\n",
    "\n",
    "for i in [0.05,0.025,0.01]:\n",
    "    print(\"KQp is:\", KQp(test_lstm_recons_error,i),\"with q =\",i)"
   ]
  },
  {
   "cell_type": "code",
   "execution_count": 28,
   "metadata": {},
   "outputs": [
    {
     "name": "stdout",
     "output_type": "stream",
     "text": [
      "Closest KQp threshold is 90.65489014658328 at q = 0.1\n",
      "\n",
      "PR evaluation using KQE:\n",
      "Precision: 0.9650145772594753\n",
      "Recall: 1.0\n",
      "F1: 0.9821958456973293\n",
      "TP: 331\n",
      "FP: 12\n",
      "FN: 0\n",
      "\n",
      "Threshold is 113.6569604963413\n",
      "\n",
      "PR evaluation using augmented detection:\n",
      "Precision: 1.0\n",
      "Recall: 1.0\n",
      "F1: 1.0\n",
      "TP: 331\n",
      "FP: 0\n",
      "FN: 0\n"
     ]
    }
   ],
   "source": [
    "# Now select a threshold\n",
    "threshold = best_thres\n",
    "q_list = [0.9, 0.8, 0.7, 0.6, 0.5, 0.4, 0.3, 0.2, 0.1]\n",
    "temp = math.inf\n",
    "q_best = 0\n",
    "closest_thres = 0\n",
    "for q in q_list:\n",
    "    temp_thres = KQp(test_lstm_recons_error, q)\n",
    "    #print(temp_thres,abs(temp_thres - threshold))\n",
    "    if abs(temp_thres - threshold) < temp:\n",
    "        temp = abs(temp_thres - threshold)\n",
    "        q_best = q\n",
    "        KQp_thres = temp_thres\n",
    "    \n",
    "print(\"Closest KQp threshold is {} at q = {}\".format(KQp_thres,q_best))\n",
    "idx_detection = return_anomaly_idx_by_threshold(test_lstm_recons_error, KQp_thres)\n",
    "#print(idx_detection)\n",
    "idx_detection_augmented = augment_detected_idx(idx_detection, anomaly_index_lstm)\n",
    "#print(anomaly_index_lstm)\n",
    "#print(idx_detection_augmented)\n",
    "precision, recall, F1, _, n_TP, n_FP, n_FN = compute_precision_and_recall(idx_detection_augmented, \n",
    "                                                                       anomaly_index_lstm, \n",
    "                                                                       test_labels_lstm)\n",
    "\n",
    "print(\"\\nPR evaluation using KQE:\")\n",
    "print(\"Precision: {}\".format(precision))\n",
    "print(\"Recall: {}\".format(recall))\n",
    "print(\"F1: {}\".format(F1))\n",
    "print(\"TP: {}\".format(n_TP))\n",
    "print(\"FP: {}\".format(n_FP))\n",
    "print(\"FN: {}\".format(n_FN))\n",
    "\n",
    "print(\"\\nThreshold is {}\".format(threshold))\n",
    "idx_detection = return_anomaly_idx_by_threshold(test_lstm_recons_error, threshold)\n",
    "idx_detection_augmented = augment_detected_idx(idx_detection, anomaly_index_lstm)\n",
    "precision, recall, F1, _, n_TP, n_FP, n_FN = compute_precision_and_recall(idx_detection_augmented, \n",
    "                                                                       anomaly_index_lstm, \n",
    "                                                                       test_labels_lstm)\n",
    "print(\"\\nPR evaluation using augmented detection:\")\n",
    "print(\"Precision: {}\".format(precision))\n",
    "print(\"Recall: {}\".format(recall))\n",
    "print(\"F1: {}\".format(F1))\n",
    "print(\"TP: {}\".format(n_TP))\n",
    "print(\"FP: {}\".format(n_FP))\n",
    "print(\"FN: {}\".format(n_FN))\n",
    "#print(idx_detection_augmented)\n",
    "#print(test_labels_lstm[2712])"
   ]
  },
  {
   "cell_type": "code",
   "execution_count": 29,
   "metadata": {},
   "outputs": [],
   "source": [
    "def slice_detected_indices_into_seq(idx_detection, interval):\n",
    "    detected_seq = []\n",
    "    i = 0\n",
    "    while i < len(idx_detection):\n",
    "        if i == 0:\n",
    "            cur_seq = [idx_detection[i]]\n",
    "            i = i + 1\n",
    "        else:\n",
    "            if idx_detection[i] - idx_detection[i-1] > interval:\n",
    "                detected_seq.append(cur_seq)\n",
    "                cur_seq = [idx_detection[i]]\n",
    "            else:\n",
    "                cur_seq.append(idx_detection[i])\n",
    "                if i == len(idx_detection) - 1:\n",
    "                    detected_seq.append(cur_seq)\n",
    "            i = i + 1\n",
    "    \n",
    "    print(\"Detected {} sequences\".format(len(detected_seq)))\n",
    "    return detected_seq"
   ]
  },
  {
   "cell_type": "code",
   "execution_count": 30,
   "metadata": {},
   "outputs": [],
   "source": [
    "def plot_detected_anomalies(idx_detection, interval, dataset, result, detection_method, augmented_flag=1, y_scale=5, y_lim=None):\n",
    "    detected_seq = slice_detected_indices_into_seq(idx_detection, interval=interval)\n",
    "    #t_test = result['t_test']\n",
    "    test = result['test']\n",
    "    # print(test,test.shape)\n",
    "    t_test = np.array(range(np.shape(test)[0]))\n",
    "    idx_anomaly_test = result['idx_anomaly_test']\n",
    "        \n",
    "    # plot detected sequences\n",
    "    fig, axs = plt.subplots(1, 1, figsize=(18, 5), edgecolor='k')\n",
    "    fig.subplots_adjust(hspace=.4, wspace=.4)\n",
    "    axs.plot(t_test, test)\n",
    "    for j in range(len(idx_anomaly_test)):\n",
    "        if j == 0:\n",
    "            axs.plot(idx_anomaly_test[j] * np.ones(20), np.linspace(-y_scale, y_scale, 20), 'r--', label='true anomalies')\n",
    "        else:\n",
    "            axs.plot(idx_anomaly_test[j] * np.ones(20), np.linspace(-y_scale, y_scale, 20), 'r--')\n",
    "        \n",
    "    for i in range(len(detected_seq)):\n",
    "        for j in detected_seq[i]:\n",
    "            if j == detected_seq[0][0]:\n",
    "                axs.plot((j+interval*2) * np.ones(20), np.linspace(-y_scale, -0.8*y_scale, 20), 'g-', label='detected anomalies')\n",
    "            else:\n",
    "                axs.plot((j+interval*2) * np.ones(20), np.linspace(-y_scale, -0.8*y_scale, 20), 'g-')\n",
    "    \n",
    "    for j in range(len(idx_anomaly_test)):\n",
    "        axs.plot(idx_anomaly_test[j] * np.ones(20), np.linspace(-y_scale, y_scale, 20), 'r--')\n",
    "\n",
    "    for i in range(len(detected_seq)):\n",
    "        interval_x = np.asarray([detected_seq[i][0], detected_seq[i][-1]+interval*2])\n",
    "        interval_y = np.asarray([y_scale,y_scale])\n",
    "        if i == 0:\n",
    "            axs.fill_between(interval_x, interval_y, alpha=0.2, color='y', label='detected anomaly windows')\n",
    "        else:\n",
    "            axs.fill_between(interval_x, interval_y, alpha=0.2, color='y')\n",
    "        interval_y = np.asarray([-y_scale,-y_scale])\n",
    "        axs.fill_between(interval_x, interval_y, alpha=0.2, color='y')\n",
    "    axs.grid(True)\n",
    "    axs.set_xlim(0, len(t_test))\n",
    "    if y_lim is None:\n",
    "        axs.set_ylim(-y_scale, y_scale)\n",
    "    else:\n",
    "        axs.set_ylim(-y_scale, y_lim)\n",
    "    axs.set_xlabel(\"timestamp (every {})\".format(result['t_unit']))\n",
    "    axs.set_ylabel(\"normalised readings\")\n",
    "    axs.set_title(\"{} dataset test sequence\\n(normalised by train mean {:.4f} and std {:.4f})\\n Detection method: {}\".format(dataset, \n",
    "                                                                                        np.mean(result['train_m']), \n",
    "                                                                                        np.mean(result['train_std']),\n",
    "                                                                                        detection_method))\n",
    "    axs.legend()\n",
    "    savefig(config['result_dir']+'detected_anomalies_{}_aug_{}.pdf'.format(detection_method, augmented_flag))"
   ]
  },
  {
   "cell_type": "code",
   "execution_count": 31,
   "metadata": {
    "scrolled": false
   },
   "outputs": [
    {
     "name": "stdout",
     "output_type": "stream",
     "text": [
      "Detected 1 sequences\n"
     ]
    },
    {
     "data": {
      "image/png": "[encoded data removed]",
      "text/plain": [
       "<Figure size 1296x360 with 1 Axes>"
      ]
     },
     "metadata": {
      "needs_background": "light"
     },
     "output_type": "display_data"
    }
   ],
   "source": [
    "plot_detected_anomalies(idx_detection_augmented, \n",
    "                        interval=config['l_win']*config['l_seq']/2, \n",
    "                        dataset=dataset, \n",
    "                        result=result, \n",
    "                        detection_method='lstm reconstruction error',\n",
    "                        augmented_flag=1,\n",
    "                        y_scale=5,\n",
    "                        y_lim=5)"
   ]
  },
  {
   "cell_type": "raw",
   "metadata": {},
   "source": [
    "#OCSVM\n",
    "\n",
    "from sklearn.metrics import precision_recall_curve\n",
    "from sklearn.metrics import precision_score\n",
    "from sklearn.metrics import recall_score\n",
    "from sklearn.metrics import f1_score\n",
    "from sklearn.metrics import accuracy_score\n",
    "\n",
    "y_test1 = np.where(test_labels_lstm==1,-1,1) #doi lai label\n",
    "\n",
    "#OCSVM\n",
    "\n",
    "e3 = train_lstm_recons_abs\n",
    "\n",
    "nsamples, nx, ny = e3.shape\n",
    "d2_e3 = e3.reshape((nsamples,nx*ny))\n",
    "\n",
    "nu = 0.5 #0.0055\n",
    "gamma = 'auto' #1.5\n",
    "from sklearn import svm\n",
    "\n",
    "clf3 = svm.OneClassSVM(nu=nu, kernel=\"rbf\", gamma=gamma)\n",
    "clf3.fit(d2_e3)\n",
    "\n",
    "e_t3 = test_lstm_recons_abs\n",
    "\n",
    "nsamples, nx, ny = e_t3.shape\n",
    "d2_e_t3 = e_t3.reshape((nsamples,nx*ny))\n",
    "\n",
    "\n",
    "y_scores = clf3.predict(d2_e_t3)\n",
    "precision = precision_score(y_test1, y_scores,pos_label=-1)\n",
    "recall    = recall_score(y_test1, y_scores,pos_label=-1)\n",
    "accuracy = accuracy_score(y_test1, y_scores)\n",
    "f1 = f1_score(y_test1, y_scores,pos_label=-1)\n",
    "#print(\"pred:\",y_scores,np.unique(y_scores))\n",
    "#print(\"truth:\",y_test1)\n",
    "print ('OCSVM recons abs:')\n",
    "print ('Precision : ', precision)\n",
    "print ('Recall: ', recall)\n",
    "print ('F1_score: ', f1)\n",
    "print ('Accuracy : ', accuracy)\n",
    "\n",
    "#augmented\n",
    "\n",
    "y_scores_idx_anomaly = np.squeeze(np.argwhere(y_scores==-1))\n",
    "#print(y_scores_idx_anomaly)\n",
    "idx_augmented = augment_detected_idx(y_scores_idx_anomaly, anomaly_index_lstm)\n",
    "#print(idx_augmented)\n",
    "y_scores[idx_augmented] = -1\n",
    "\n",
    "precision = precision_score(y_test1, y_scores, pos_label=-1)\n",
    "recall    = recall_score(y_test1, y_scores, pos_label=-1)\n",
    "accuracy = accuracy_score(y_test1, y_scores)\n",
    "f1 = f1_score(y_test1, y_scores, pos_label=-1)\n",
    "print ('\\nOSCVM recons abs augmented: ')\n",
    "print ('Precision : ', precision)\n",
    "print ('Recall: ', recall)\n",
    "print ('F1_score: ', f1)\n",
    "print ('Accuracy : ', accuracy)"
   ]
  },
  {
   "cell_type": "raw",
   "metadata": {},
   "source": [
    "a = [1, 1, -1, -1]\n",
    "b = [1, -1, 1, 1]\n",
    "precision = precision_score(a,b,pos_label=-1)\n",
    "recall = recall_score(a,b,pos_label=-1)\n",
    "print(precision)\n",
    "print(recall)\n",
    "f1 = f1_score(a, b, pos_label=-1)\n",
    "print(f1)"
   ]
  },
  {
   "cell_type": "code",
   "execution_count": 32,
   "metadata": {},
   "outputs": [],
   "source": [
    "import numpy as np"
   ]
  },
  {
   "cell_type": "code",
   "execution_count": 33,
   "metadata": {},
   "outputs": [
    {
     "name": "stdout",
     "output_type": "stream",
     "text": [
      "[[0]\n",
      " [2]\n",
      " [5]]\n",
      "[1 1 1]\n"
     ]
    }
   ],
   "source": [
    "a = np.array([1,2,1,4,52,1])\n",
    "x = np.argwhere(a==1)\n",
    "print(x)\n",
    "print(a[np.squeeze(x.T)])"
   ]
  },
  {
   "cell_type": "code",
   "execution_count": 34,
   "metadata": {},
   "outputs": [
    {
     "name": "stdout",
     "output_type": "stream",
     "text": [
      "1 and 2\n",
      "3 and 6\n",
      "4 and 5\n"
     ]
    }
   ],
   "source": [
    "a = (1,3,4)\n",
    "b = (2,6,5)\n",
    "for a1,v1 in zip(a,b):\n",
    "    print(a1,\"and\",v1)"
   ]
  },
  {
   "cell_type": "raw",
   "metadata": {},
   "source": [
    "np.unique(y_scores)"
   ]
  },
  {
   "cell_type": "code",
   "execution_count": null,
   "metadata": {},
   "outputs": [],
   "source": []
  }
 ],
 "metadata": {
  "kernelspec": {
   "display_name": "Python 3",
   "language": "python",
   "name": "python3"
  },
  "language_info": {
   "codemirror_mode": {
    "name": "ipython",
    "version": 3
   },
   "file_extension": ".py",
   "mimetype": "text/x-python",
   "name": "python",
   "nbconvert_exporter": "python",
   "pygments_lexer": "ipython3",
   "version": "3.7.9"
  }
 },
 "nbformat": 4,
 "nbformat_minor": 2
}
