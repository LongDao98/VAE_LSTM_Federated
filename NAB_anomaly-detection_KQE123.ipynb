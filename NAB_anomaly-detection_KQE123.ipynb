{
 "cells": [
  {
   "cell_type": "code",
   "execution_count": 1,
   "metadata": {},
   "outputs": [],
   "source": [
    "import warnings\n",
    "\n",
    "def fxn():\n",
    "    warnings.warn(\"deprecated\", DeprecationWarning)\n",
    "\n",
    "with warnings.catch_warnings():\n",
    "    warnings.simplefilter(\"ignore\")\n",
    "    fxn()"
   ]
  },
  {
   "cell_type": "code",
   "execution_count": 2,
   "metadata": {},
   "outputs": [],
   "source": [
    "import tensorflow as tf\n",
    "import tensorflow_probability as tfp\n",
    "import numpy as np\n",
    "import matplotlib.pylab as plt\n",
    "from matplotlib.pyplot import plot, ion, show, savefig, cla, figure\n",
    "import random\n",
    "import time"
   ]
  },
  {
   "cell_type": "code",
   "execution_count": 3,
   "metadata": {},
   "outputs": [],
   "source": [
    "import os\n",
    "os.environ[\"CUDA_DEVICE_ORDER\"]=\"PCI_BUS_ID\"   # see issue #152\n",
    "os.environ[\"CUDA_VISIBLE_DEVICES\"]=\"0\"\n",
    "\n",
    "import tensorflow as tf\n",
    "from data_loader import DataGenerator\n",
    "from models import VAEmodel, lstmKerasModel\n",
    "from trainers import vaeTrainer\n",
    "\n",
    "from utils import process_config, create_dirs, get_args"
   ]
  },
  {
   "cell_type": "code",
   "execution_count": 4,
   "metadata": {},
   "outputs": [
    {
     "name": "stdout",
     "output_type": "stream",
     "text": [
      "[]\n"
     ]
    }
   ],
   "source": [
    "from tensorflow.python.client import device_lib\n",
    "\n",
    "def get_available_gpus():\n",
    "    local_device_protos = device_lib.list_local_devices()\n",
    "    return [x.name for x in local_device_protos if x.device_type == 'GPU']\n",
    "\n",
    "print(get_available_gpus())"
   ]
  },
  {
   "cell_type": "code",
   "execution_count": 5,
   "metadata": {},
   "outputs": [
    {
     "name": "stdout",
     "output_type": "stream",
     "text": [
      "Device mapping:\n",
      "/job:localhost/replica:0/task:0/device:XLA_CPU:0 -> device: XLA_CPU device\n",
      "/job:localhost/replica:0/task:0/device:XLA_GPU:0 -> device: XLA_GPU device\n",
      "\n",
      "ECG\n",
      "ECG\n",
      "ECG\n",
      "ECG\n",
      "ECG\n",
      "ECG\n",
      "ECG\n",
      "ECG\n",
      "ECG\n",
      "WARNING:tensorflow:From /home/quang/Documents/FIL/VAE3/codes/base.py:67: The name tf.variable_scope is deprecated. Please use tf.compat.v1.variable_scope instead.\n",
      "\n",
      "WARNING:tensorflow:From /home/quang/Documents/FIL/VAE3/codes/base.py:69: The name tf.assign is deprecated. Please use tf.compat.v1.assign instead.\n",
      "\n",
      "WARNING:tensorflow:From /home/quang/Documents/FIL/VAE3/codes/models.py:25: The name tf.placeholder is deprecated. Please use tf.compat.v1.placeholder instead.\n",
      "\n",
      "original_signal shape:  (?, 24, 2)\n",
      "WARNING:tensorflow:From /home/quang/anaconda3/envs/VAE/lib/python3.7/site-packages/tensorflow_core/python/data/util/random_seed.py:58: where (from tensorflow.python.ops.array_ops) is deprecated and will be removed in a future version.\n",
      "Instructions for updating:\n",
      "Use tf.where in 2.0, which has the same broadcast rule as np.where\n",
      "WARNING:tensorflow:From /home/quang/Documents/FIL/VAE3/codes/models.py:32: DatasetV1.make_initializable_iterator (from tensorflow.python.data.ops.dataset_ops) is deprecated and will be removed in a future version.\n",
      "Instructions for updating:\n",
      "Use `for ... in dataset:` to iterate over a dataset. If using `tf.estimator`, return the `Dataset` object directly from your input function. As a last resort, you can use `tf.compat.v1.data.make_initializable_iterator(dataset)`.\n",
      "WARNING:tensorflow:\n",
      "The TensorFlow contrib module will not be included in TensorFlow 2.0.\n",
      "For more information, please see:\n",
      "  * https://github.com/tensorflow/community/blob/master/rfcs/20180907-contrib-sunset.md\n",
      "  * https://github.com/tensorflow/addons\n",
      "  * https://github.com/tensorflow/io (for I/O related ops)\n",
      "If you depend on functionality not listed there, please file an issue.\n",
      "\n",
      "input_tensor shape: (?, 24, 2, 1)\n",
      "WARNING:tensorflow:From /home/quang/Documents/FIL/VAE3/codes/models.py:53: conv2d (from tensorflow.python.layers.convolutional) is deprecated and will be removed in a future version.\n",
      "Instructions for updating:\n",
      "Use `tf.keras.layers.Conv2D` instead.\n",
      "WARNING:tensorflow:From /home/quang/anaconda3/envs/VAE/lib/python3.7/site-packages/tensorflow_core/python/layers/convolutional.py:424: Layer.apply (from tensorflow.python.keras.engine.base_layer) is deprecated and will be removed in a future version.\n",
      "Instructions for updating:\n",
      "Please use `layer.__call__` method instead.\n",
      "conv_1: Tensor(\"encoder_Centralized/conv2d/LeakyRelu:0\", shape=(?, 16, 2, 32), dtype=float32)\n",
      "conv_2: Tensor(\"encoder_Centralized/conv2d_1/LeakyRelu:0\", shape=(?, 8, 2, 64), dtype=float32)\n",
      "conv_3: Tensor(\"encoder_Centralized/conv2d_2/LeakyRelu:0\", shape=(?, 4, 2, 128), dtype=float32)\n",
      "conv_4: Tensor(\"encoder_Centralized/conv2d_3/LeakyRelu:0\", shape=(?, 1, 1, 512), dtype=float32)\n",
      "WARNING:tensorflow:From /home/quang/Documents/FIL/VAE3/codes/models.py:146: flatten (from tensorflow.python.layers.core) is deprecated and will be removed in a future version.\n",
      "Instructions for updating:\n",
      "Use keras.layers.flatten instead.\n",
      "WARNING:tensorflow:From /home/quang/Documents/FIL/VAE3/codes/models.py:150: dense (from tensorflow.python.layers.core) is deprecated and will be removed in a future version.\n",
      "Instructions for updating:\n",
      "Use keras.layers.Dense instead.\n",
      "finish encoder for Centralized: \n",
      "Tensor(\"encoder_Centralized/MultivariateNormalDiag/sample/affine_linear_operator/forward/add:0\", shape=(?, 6), dtype=float32)\n",
      "\n",
      "\n",
      "Decoder input shape: (?, 6)\n",
      "decoded_2 is: Tensor(\"decoder_Centralized/Reshape_1:0\", shape=(?, 4, 1, 128), dtype=float32)\n",
      "decoded_3 is: Tensor(\"decoder_Centralized/Reshape_2:0\", shape=(?, 8, 1, 64), dtype=float32)\n",
      "decoded_4 is: Tensor(\"decoder_Centralized/Reshape_3:0\", shape=(?, 16, 1, 32), dtype=float32)\n",
      "decoded_5 is: Tensor(\"decoder_Centralized/Reshape_4:0\", shape=(?, 32, 1, 16), dtype=float32)\n",
      "decoded_6 is: Tensor(\"decoder_Centralized/conv2d_4/BiasAdd:0\", shape=(?, 24, 1, 2), dtype=float32)\n",
      "finish decoder for Centralized: \n",
      "Tensor(\"decoder_Centralized/Reshape_5:0\", shape=(?, 24, 2), dtype=float32)\n",
      "\n",
      "\n",
      "sigma2 for Centralized: \n",
      "Tensor(\"sigma2_dataset_Centralized/Square:0\", shape=(), dtype=float32)\n",
      "\n",
      "WARNING:tensorflow:From /home/quang/Documents/FIL/VAE3/codes/base.py:78: The name tf.log is deprecated. Please use tf.math.log instead.\n",
      "\n",
      "KL_loss shape2 ()\n",
      "recon_error shape ()\n",
      "ls_recon shape ()\n",
      "sigma_regu shape ()\n",
      "two_pi shape ()\n",
      "elbo loss shape []\n",
      "WARNING:tensorflow:From /home/quang/Documents/FIL/VAE3/codes/base.py:111: The name tf.get_collection is deprecated. Please use tf.compat.v1.get_collection instead.\n",
      "\n",
      "WARNING:tensorflow:From /home/quang/Documents/FIL/VAE3/codes/base.py:111: The name tf.GraphKeys is deprecated. Please use tf.compat.v1.GraphKeys instead.\n",
      "\n",
      "WARNING:tensorflow:From /home/quang/Documents/FIL/VAE3/codes/utils.py:79: The name tf.trainable_variables is deprecated. Please use tf.compat.v1.trainable_variables instead.\n",
      "\n",
      "The total number of trainable parameters in the encoder_Centralized model is: 599268\n",
      "The total number of trainable parameters in the decoder_Centralized model is: 331266\n",
      "The total number of trainable parameters in the sigma2_dataset_Centralized model is: 0\n",
      "Total number of trainable parameters in the VAE network of Centralized is: 930534\n",
      "WARNING:tensorflow:From /home/quang/Documents/FIL/VAE3/codes/base.py:124: The name tf.train.AdamOptimizer is deprecated. Please use tf.compat.v1.train.AdamOptimizer instead.\n",
      "\n",
      "gvs for dataset: [(<tf.Tensor 'gradients/encoder_Centralized/conv2d/Conv2D_grad/tuple/control_dependency_1:0' shape=(3, 2, 1, 32) dtype=float32>, <tf.Variable 'encoder_Centralized/conv2d/kernel:0' shape=(3, 2, 1, 32) dtype=float32_ref>), (<tf.Tensor 'gradients/encoder_Centralized/conv2d/BiasAdd_grad/tuple/control_dependency_1:0' shape=(32,) dtype=float32>, <tf.Variable 'encoder_Centralized/conv2d/bias:0' shape=(32,) dtype=float32_ref>), (<tf.Tensor 'gradients/encoder_Centralized/conv2d_1/Conv2D_grad/tuple/control_dependency_1:0' shape=(3, 2, 32, 64) dtype=float32>, <tf.Variable 'encoder_Centralized/conv2d_1/kernel:0' shape=(3, 2, 32, 64) dtype=float32_ref>), (<tf.Tensor 'gradients/encoder_Centralized/conv2d_1/BiasAdd_grad/tuple/control_dependency_1:0' shape=(64,) dtype=float32>, <tf.Variable 'encoder_Centralized/conv2d_1/bias:0' shape=(64,) dtype=float32_ref>), (<tf.Tensor 'gradients/encoder_Centralized/conv2d_2/Conv2D_grad/tuple/control_dependency_1:0' shape=(3, 2, 64, 128) dtype=float32>, <tf.Variable 'encoder_Centralized/conv2d_2/kernel:0' shape=(3, 2, 64, 128) dtype=float32_ref>), (<tf.Tensor 'gradients/encoder_Centralized/conv2d_2/BiasAdd_grad/tuple/control_dependency_1:0' shape=(128,) dtype=float32>, <tf.Variable 'encoder_Centralized/conv2d_2/bias:0' shape=(128,) dtype=float32_ref>), (<tf.Tensor 'gradients/encoder_Centralized/conv2d_3/Conv2D_grad/tuple/control_dependency_1:0' shape=(4, 2, 128, 512) dtype=float32>, <tf.Variable 'encoder_Centralized/conv2d_3/kernel:0' shape=(4, 2, 128, 512) dtype=float32_ref>), (<tf.Tensor 'gradients/encoder_Centralized/conv2d_3/BiasAdd_grad/tuple/control_dependency_1:0' shape=(512,) dtype=float32>, <tf.Variable 'encoder_Centralized/conv2d_3/bias:0' shape=(512,) dtype=float32_ref>), (<tf.Tensor 'gradients/encoder_Centralized/dense/MatMul_grad/tuple/control_dependency_1:0' shape=(512, 24) dtype=float32>, <tf.Variable 'encoder_Centralized/dense/kernel:0' shape=(512, 24) dtype=float32_ref>), (<tf.Tensor 'gradients/encoder_Centralized/dense/BiasAdd_grad/tuple/control_dependency_1:0' shape=(24,) dtype=float32>, <tf.Variable 'encoder_Centralized/dense/bias:0' shape=(24,) dtype=float32_ref>), (<tf.Tensor 'gradients/encoder_Centralized/code_mean/MatMul_grad/tuple/control_dependency_1:0' shape=(24, 6) dtype=float32>, <tf.Variable 'encoder_Centralized/code_mean/kernel:0' shape=(24, 6) dtype=float32_ref>), (<tf.Tensor 'gradients/encoder_Centralized/code_mean/BiasAdd_grad/tuple/control_dependency_1:0' shape=(6,) dtype=float32>, <tf.Variable 'encoder_Centralized/code_mean/bias:0' shape=(6,) dtype=float32_ref>), (<tf.Tensor 'gradients/encoder_Centralized/code_std_dev/MatMul_grad/tuple/control_dependency_1:0' shape=(24, 6) dtype=float32>, <tf.Variable 'encoder_Centralized/code_std_dev/kernel:0' shape=(24, 6) dtype=float32_ref>), (<tf.Tensor 'gradients/encoder_Centralized/code_std_dev/BiasAdd_grad/tuple/control_dependency_1:0' shape=(6,) dtype=float32>, <tf.Variable 'encoder_Centralized/code_std_dev/bias:0' shape=(6,) dtype=float32_ref>), (<tf.Tensor 'gradients/decoder_Centralized/dense/MatMul_grad/tuple/control_dependency_1:0' shape=(6, 512) dtype=float32>, <tf.Variable 'decoder_Centralized/dense/kernel:0' shape=(6, 512) dtype=float32_ref>), (<tf.Tensor 'gradients/decoder_Centralized/dense/BiasAdd_grad/tuple/control_dependency_1:0' shape=(512,) dtype=float32>, <tf.Variable 'decoder_Centralized/dense/bias:0' shape=(512,) dtype=float32_ref>), (<tf.Tensor 'gradients/decoder_Centralized/conv2d/Conv2D_grad/tuple/control_dependency_1:0' shape=(1, 1, 512, 512) dtype=float32>, <tf.Variable 'decoder_Centralized/conv2d/kernel:0' shape=(1, 1, 512, 512) dtype=float32_ref>), (<tf.Tensor 'gradients/decoder_Centralized/conv2d/BiasAdd_grad/tuple/control_dependency_1:0' shape=(512,) dtype=float32>, <tf.Variable 'decoder_Centralized/conv2d/bias:0' shape=(512,) dtype=float32_ref>), (<tf.Tensor 'gradients/decoder_Centralized/conv2d_1/Conv2D_grad/tuple/control_dependency_1:0' shape=(3, 1, 128, 128) dtype=float32>, <tf.Variable 'decoder_Centralized/conv2d_1/kernel:0' shape=(3, 1, 128, 128) dtype=float32_ref>), (<tf.Tensor 'gradients/decoder_Centralized/conv2d_1/BiasAdd_grad/tuple/control_dependency_1:0' shape=(128,) dtype=float32>, <tf.Variable 'decoder_Centralized/conv2d_1/bias:0' shape=(128,) dtype=float32_ref>), (<tf.Tensor 'gradients/decoder_Centralized/conv2d_2/Conv2D_grad/tuple/control_dependency_1:0' shape=(3, 1, 64, 64) dtype=float32>, <tf.Variable 'decoder_Centralized/conv2d_2/kernel:0' shape=(3, 1, 64, 64) dtype=float32_ref>), (<tf.Tensor 'gradients/decoder_Centralized/conv2d_2/BiasAdd_grad/tuple/control_dependency_1:0' shape=(64,) dtype=float32>, <tf.Variable 'decoder_Centralized/conv2d_2/bias:0' shape=(64,) dtype=float32_ref>), (<tf.Tensor 'gradients/decoder_Centralized/conv2d_3/Conv2D_grad/tuple/control_dependency_1:0' shape=(3, 1, 32, 32) dtype=float32>, <tf.Variable 'decoder_Centralized/conv2d_3/kernel:0' shape=(3, 1, 32, 32) dtype=float32_ref>), (<tf.Tensor 'gradients/decoder_Centralized/conv2d_3/BiasAdd_grad/tuple/control_dependency_1:0' shape=(32,) dtype=float32>, <tf.Variable 'decoder_Centralized/conv2d_3/bias:0' shape=(32,) dtype=float32_ref>), (<tf.Tensor 'gradients/decoder_Centralized/conv2d_4/Conv2D_grad/tuple/control_dependency_1:0' shape=(9, 1, 16, 2) dtype=float32>, <tf.Variable 'decoder_Centralized/conv2d_4/kernel:0' shape=(9, 1, 16, 2) dtype=float32_ref>), (<tf.Tensor 'gradients/decoder_Centralized/conv2d_4/BiasAdd_grad/tuple/control_dependency_1:0' shape=(2,) dtype=float32>, <tf.Variable 'decoder_Centralized/conv2d_4/bias:0' shape=(2,) dtype=float32_ref>)]\n"
     ]
    },
    {
     "name": "stdout",
     "output_type": "stream",
     "text": [
      "Reach the definition of loss for VAE\n",
      "WARNING:tensorflow:From /home/quang/Documents/FIL/VAE3/codes/base.py:140: The name tf.train.Saver is deprecated. Please use tf.compat.v1.train.Saver instead.\n",
      "\n",
      "WARNING:tensorflow:From /home/quang/Documents/FIL/VAE3/codes/base.py:149: The name tf.global_variables_initializer is deprecated. Please use tf.compat.v1.global_variables_initializer instead.\n",
      "\n",
      "WARNING:tensorflow:From /home/quang/Documents/FIL/VAE3/codes/base.py:150: The name tf.local_variables_initializer is deprecated. Please use tf.compat.v1.local_variables_initializer instead.\n",
      "\n",
      "checkpoint_dir at loading: ../experiments/local-results/ECG/ecg/batch-32/ECG-ecg-24-12-6-fixedSigma-0.1/checkpoint/Centralized\n",
      "Loading model checkpoint ../experiments/local-results/ECG/ecg/batch-32/ECG-ecg-24-12-6-fixedSigma-0.1/checkpoint/Centralized/-1320 ...\n",
      "\n",
      "INFO:tensorflow:Restoring parameters from ../experiments/local-results/ECG/ecg/batch-32/ECG-ecg-24-12-6-fixedSigma-0.1/checkpoint/Centralized/-1320\n",
      "Model loaded.\n"
     ]
    }
   ],
   "source": [
    "# load VAE model\n",
    "config = process_config('NAB_config4_centralized.json')#('NAB_config_centralized.json')\n",
    "# create the experiments dirs\n",
    "create_dirs([config['result_dir'], config['checkpoint_dir']])\n",
    "# create tensorflow session\n",
    "sess = tf.Session(config=tf.ConfigProto(log_device_placement=True))\n",
    "# create your data generator\n",
    "\n",
    "data = DataGenerator(config)\n",
    "# create a CNN model\n",
    "model_vae = VAEmodel(config, \"Centralized\")\n",
    "# create a CNN model\n",
    "trainer_vae = vaeTrainer(sess, model_vae, data, config)\n",
    "model_vae.load(sess)"
   ]
  },
  {
   "cell_type": "code",
   "execution_count": 6,
   "metadata": {},
   "outputs": [
    {
     "name": "stdout",
     "output_type": "stream",
     "text": [
      "dict_keys(['config', 'n_train_vae', 'n_val_vae', 'train_set_vae', 'val_set_vae', 'test_set_vae', 'n_train_lstm', 'n_val_lstm', 'train_set_lstm', 'val_set_lstm'])\n",
      "n_train_vae 2174\n",
      "n_val_vae 242\n",
      "n_train_lstm 1936\n",
      "n_val_lstm 216\n",
      "train_set_vae (2174, 24, 2)\n",
      "val_set_vae (242, 24, 2)\n",
      "test_set_vae (32, 24, 2)\n",
      "train_set_lstm (1936, 12, 24, 2)\n",
      "val_set_lstm (216, 12, 24, 2)\n"
     ]
    }
   ],
   "source": [
    "print(data.__dict__.keys())\n",
    "for i in data.__dict__.keys():\n",
    "    if (i not in ['config','train_set_vae','val_set_vae','test_set_vae','train_set_lstm', 'val_set_lstm']):\n",
    "        print(i ,getattr(data,i))\n",
    "for i in  ['train_set_vae','val_set_vae','test_set_vae','train_set_lstm', 'val_set_lstm']:\n",
    "    print(i ,(getattr(data,i)['data']).shape)\n",
    "\n",
    "\n"
   ]
  },
  {
   "cell_type": "code",
   "execution_count": 7,
   "metadata": {},
   "outputs": [
    {
     "data": {
      "text/plain": [
       "'ecg_2'"
      ]
     },
     "execution_count": 7,
     "metadata": {},
     "output_type": "execute_result"
    }
   ],
   "source": [
    "config['dataset']"
   ]
  },
  {
   "cell_type": "code",
   "execution_count": 6,
   "metadata": {},
   "outputs": [
    {
     "name": "stdout",
     "output_type": "stream",
     "text": [
      "lstm input: (?, 11, 6)\n",
      "WARNING:tensorflow:From /home/quang/anaconda3/envs/VAE/lib/python3.7/site-packages/tensorflow_core/python/ops/resource_variable_ops.py:1630: calling BaseResourceVariable.__init__ (from tensorflow.python.ops.resource_variable_ops) with constraint is deprecated and will be removed in a future version.\n",
      "Instructions for updating:\n",
      "If using Keras pass *_constraint arguments to layers.\n",
      "Finish processing the embeddings of the entire dataset of Centralized.\n",
      "lstm input: (?, 11, 6)\n",
      "Model: \"model_1\"\n",
      "_________________________________________________________________\n",
      "Layer (type)                 Output Shape              Param #   \n",
      "=================================================================\n",
      "input_2 (InputLayer)         [(None, 11, 6)]           0         \n",
      "_________________________________________________________________\n",
      "lstm_3 (LSTM)                (None, 11, 64)            18176     \n",
      "_________________________________________________________________\n",
      "lstm_4 (LSTM)                (None, 11, 64)            33024     \n",
      "_________________________________________________________________\n",
      "lstm_5 (LSTM)                (None, 11, 6)             1704      \n",
      "=================================================================\n",
      "Total params: 52,904\n",
      "Trainable params: 52,904\n",
      "Non-trainable params: 0\n",
      "_________________________________________________________________\n",
      "../experiments/local-results/ECG/ecg/batch-32/ECG-ecg-24-12-6-fixedSigma-0.1/checkpoint/lstm/checkpoint\n",
      "LSTM model loaded.\n"
     ]
    }
   ],
   "source": [
    "# load LSTM model\n",
    "lstm_model = lstmKerasModel(\"Centralized\", config)\n",
    "lstm_model.produce_embeddings(model_vae, data, sess)\n",
    "lstm_nn_model = lstm_model.create_lstm_model()\n",
    "lstm_nn_model.summary()   # Display the model's architecture\n",
    "\n",
    "# checkpoint path\n",
    "checkpoint_path = config['checkpoint_dir_lstm'] + \"cp_Centralized.ckpt\"\n",
    "checkpoint_dir = os.path.dirname(checkpoint_path)\n",
    "# Create a callback that saves the model's weights\n",
    "cp_callback = tf.keras.callbacks.ModelCheckpoint(filepath=checkpoint_path,\n",
    "                                                 save_weights_only=True,\n",
    "                                                 verbose=1)\n",
    "# load weights if possible\n",
    "lstm_model.load_model(lstm_nn_model, checkpoint_path)"
   ]
  },
  {
   "cell_type": "code",
   "execution_count": 91,
   "metadata": {},
   "outputs": [
    {
     "name": "stdout",
     "output_type": "stream",
     "text": [
      "The given sequence has 1756 samples\n",
      "test_windows  (1733, 24, 2)\n",
      "test_seq  (1469, 12, 24, 2)\n"
     ]
    }
   ],
   "source": [
    "# load normalised time series\n",
    "save_dir = '../datasets/NAB-known-anomaly/'\n",
    "config['dataset'] = 'ecg_9'\n",
    "dataset = config['dataset']\n",
    "filename = '{}.npz'.format(dataset)\n",
    "result = dict(np.load(save_dir+filename, allow_pickle=True))\n",
    "if dataset == 'machine_temp':\n",
    "    result['test'] = result['test'][0]\n",
    "    result['idx_anomaly_test'] = result['idx_anomaly_test'][0]\n",
    "    result['t_test'] = result['t_test'][0]\n",
    "\n",
    "# slice into rolling windows and rolling sequences\n",
    "# slice into rolling windows and rolling sequences\n",
    "def slice_rolling_windows_and_sequences(config, time_seq):\n",
    "    n_sample = len(time_seq)\n",
    "    time_seq = np.reshape(time_seq,(-1,config['n_channel']))\n",
    "    print(\"The given sequence has {} samples\".format(n_sample))\n",
    "    n_vae_win = n_sample - config['l_win'] + 1\n",
    "    rolling_windows = np.zeros((n_vae_win, config['l_win'], config['n_channel']))\n",
    "    for i in range(n_vae_win):\n",
    "        rolling_windows[i] = time_seq[i:i + config['l_win']]\n",
    "        sample_m = np.mean(rolling_windows, axis=1)\n",
    "        sample_std = np.std(rolling_windows, axis=1)\n",
    "\n",
    "        n_lstm_seq = n_sample - config['l_seq']*config['l_win']+1\n",
    "        lstm_seq = np.zeros((n_lstm_seq, config['l_seq'], config['l_win'], config['n_channel']))\n",
    "    for i in range(n_lstm_seq):\n",
    "        cur_seq = time_seq[i:i+config['l_seq']*config['l_win']]\n",
    "        for j in range(config['l_seq']):\n",
    "            lstm_seq[i,j] = cur_seq[config['l_win']*j:config['l_win']*(j+1)]\n",
    "    \n",
    "    return rolling_windows, lstm_seq, sample_m, sample_std\n",
    "\n",
    "test_windows, test_seq, test_sample_m, test_sample_std = slice_rolling_windows_and_sequences(config, result['test'])\n",
    "test_windows = np.reshape(test_windows, (-1,config['l_win'],config['n_channel']))\n",
    "test_seq = np.reshape(test_seq, (-1,config['l_seq'],config['l_win'],config['n_channel']))\n",
    "print('test_windows ',test_windows.shape)\n",
    "print('test_seq ',test_seq.shape)"
   ]
  },
  {
   "cell_type": "code",
   "execution_count": 92,
   "metadata": {},
   "outputs": [
    {
     "data": {
      "text/plain": [
       "{'readings': array([[4.995, 4.34 ],\n",
       "        [4.995, 4.34 ],\n",
       "        [4.995, 4.34 ],\n",
       "        ...,\n",
       "        [4.985, 5.575],\n",
       "        [4.995, 5.575],\n",
       "        [5.015, 5.595]]),\n",
       " 'idx_anomaly': array([4021, 4022, 4023, 4024, 4025, 4026, 4027, 4028, 4029, 4030, 4031,\n",
       "        4032, 4033, 4034, 4035, 4036, 4037, 4038, 4039, 4040, 4041, 4042,\n",
       "        4043, 4044, 4045, 4046, 4047, 4048, 4049, 4050, 4051, 4052, 4053,\n",
       "        4054, 4055, 4056, 4057, 4058, 4059, 4060, 4061, 4062, 4063, 4064,\n",
       "        4065, 4066, 4067, 4068, 4069, 4070, 4071, 4072, 4073, 4074, 4075,\n",
       "        4076, 4077, 4078, 4079, 4080, 4081, 4082, 4083, 4084, 4085, 4086,\n",
       "        4087, 4088, 4089, 4090, 4091, 4092, 4093, 4094, 4095, 4096, 4097,\n",
       "        4098, 4099, 4100, 4101, 4102, 4103, 4104, 4105, 4106, 4107, 4108,\n",
       "        4109, 4110, 4111, 4112, 4113, 4114, 4115, 4116, 4117, 4118, 4119,\n",
       "        4120, 4121, 4122, 4123, 4124, 4125, 4126, 4127, 4128, 4129, 4130,\n",
       "        4131, 4132, 4133, 4134, 4135, 4136, 4137, 4138, 4139, 4140, 4141,\n",
       "        4142, 4143, 4144, 4145, 4146, 4147, 4148, 4149, 4150, 4151, 4152,\n",
       "        4153, 4154, 4155, 4156, 4157, 4158, 4159, 4160, 4161, 4162, 4163,\n",
       "        4164, 4165, 4166, 4167, 4168, 4169, 4170, 4171, 4172, 4173, 4174,\n",
       "        4175, 4176, 4177, 4178, 4179, 4180, 4181, 4182, 4183, 4184, 4185,\n",
       "        4186, 4187, 4188, 4189, 4190, 4191, 4192, 4193, 4194, 4195, 4196,\n",
       "        4197, 4198, 4199, 4200, 4201, 4202, 4203, 4204, 4205, 4206, 4207,\n",
       "        4208, 4209, 4210, 4211, 4212, 4213, 4214, 4215, 4216, 4217, 4218,\n",
       "        4219, 4220, 4221, 4222, 4223, 4224, 4225, 4226, 4227, 4228, 4229,\n",
       "        4230, 4231, 4232, 4233, 4234, 4235, 4236, 4237, 4238, 4239, 4240,\n",
       "        4241, 4242, 4243, 4244, 4245, 4246, 4247, 4248, 4249, 4250, 4251,\n",
       "        4252, 4253, 4254, 4255, 4256, 4257, 4258, 4259, 4260, 4261, 4262,\n",
       "        4263, 4264, 4265, 4266, 4267, 4268, 4269, 4270, 4271, 4272, 4273,\n",
       "        4274, 4275, 4276, 4277, 4278, 4279, 4280, 4281, 4282, 4283, 4284,\n",
       "        4285, 4286, 4287, 4288, 4289, 4290, 4291, 4292, 4293, 4294, 4295,\n",
       "        4296, 4297, 4298, 4299, 4300, 4301, 4302, 4303, 4304, 4305, 4306,\n",
       "        4307, 4308, 4309, 4310, 4311, 4312, 4313, 4314, 4315, 4316, 4317,\n",
       "        4318, 4319, 4320, 4321, 4322, 4323, 4324, 4325, 4326, 4327, 4328,\n",
       "        4329, 4330, 4331, 4332, 4333, 4334, 4335, 4336, 4337, 4338, 4339,\n",
       "        4340, 4341, 4342, 4343, 4344, 4345, 4346, 4347, 4348, 4349, 4350,\n",
       "        4351, 4352, 4353, 4354, 4355, 4356, 4357, 4358, 4359, 4360, 4361,\n",
       "        4362, 4363, 4364, 4365, 4366, 4367, 4368, 4369, 4370, 4371, 4372,\n",
       "        4373, 4374, 4375, 4376, 4377, 4378, 4379, 4380, 4381, 4382, 4383,\n",
       "        4384, 4385, 4386, 4387, 4388, 4389, 4390, 4391, 4392, 4393, 4394,\n",
       "        4395, 4396, 4397, 4398, 4399]),\n",
       " 'training': array([[-0.72453053, -4.54990494],\n",
       "        [-1.16297275, -4.45455856],\n",
       "        [-1.25692465, -4.31153897],\n",
       "        ...,\n",
       "        [-0.47399212, -3.32232021],\n",
       "        [-0.69321323, -3.79905214],\n",
       "        [-1.22560735, -3.98974492]]),\n",
       " 'test': array([[-1.63273226, -4.03741811],\n",
       "        [-1.94590527, -3.95399002],\n",
       "        [-1.94590527, -3.87056193],\n",
       "        ...,\n",
       "        [-0.0042326 , -2.94093466],\n",
       "        [-0.06686721, -3.64411426],\n",
       "        [-0.34872292, -4.18043769]]),\n",
       " 'train_m': array([4.81067576, 5.32378966]),\n",
       " 'train_std': array([0.15965616, 0.41952297]),\n",
       " '_train': array([   1,    2,    3, ..., 3150, 3151, 3152]),\n",
       " 't_test': array([   1,    2,    3, ..., 1754, 1755, 1756]),\n",
       " 'idx_anomaly_test': array([445, 446, 447, 448, 449, 450, 451, 452, 453, 454, 455, 456, 457,\n",
       "        458, 459, 460, 461, 462, 463, 464, 465, 466, 467, 468, 469, 470,\n",
       "        471, 472, 473, 474, 475, 476, 477, 478, 479, 480, 481, 482, 483,\n",
       "        484, 485, 486, 487, 488, 489, 490, 491, 492, 493, 494, 495, 496,\n",
       "        497, 498, 499, 500, 501, 502, 503, 504, 505, 506, 507, 508, 509,\n",
       "        510, 511, 512, 513, 514, 515, 516, 517, 518, 519, 520, 521, 522,\n",
       "        523, 524, 525, 526, 527, 528, 529, 530, 531, 532, 533, 534, 535,\n",
       "        536, 537, 538, 539, 540, 541, 542, 543, 544, 545, 546, 547, 548,\n",
       "        549, 550, 551, 552, 553, 554, 555, 556, 557, 558, 559, 560, 561,\n",
       "        562, 563, 564, 565, 566, 567, 568, 569, 570, 571, 572, 573, 574,\n",
       "        575, 576, 577, 578, 579, 580, 581, 582, 583, 584, 585, 586, 587,\n",
       "        588, 589, 590, 591, 592, 593, 594, 595, 596, 597, 598, 599, 600,\n",
       "        601, 602, 603, 604, 605, 606, 607, 608, 609, 610, 611, 612, 613,\n",
       "        614, 615, 616, 617, 618, 619, 620, 621, 622, 623, 624, 625, 626,\n",
       "        627, 628, 629, 630, 631, 632, 633, 634, 635, 636, 637, 638, 639,\n",
       "        640, 641, 642, 643, 644, 645, 646, 647, 648, 649, 650, 651, 652,\n",
       "        653, 654, 655, 656, 657, 658, 659, 660, 661, 662, 663, 664, 665,\n",
       "        666, 667, 668, 669, 670, 671, 672, 673, 674, 675, 676, 677, 678,\n",
       "        679, 680, 681, 682, 683, 684, 685, 686, 687, 688, 689, 690, 691,\n",
       "        692, 693, 694, 695, 696, 697, 698, 699, 700, 701, 702, 703, 704,\n",
       "        705, 706, 707, 708, 709, 710, 711, 712, 713, 714, 715, 716, 717,\n",
       "        718, 719, 720, 721, 722, 723, 724, 725, 726, 727, 728, 729, 730,\n",
       "        731, 732, 733, 734, 735, 736, 737, 738, 739, 740, 741, 742, 743,\n",
       "        744, 745, 746, 747, 748, 749, 750, 751, 752, 753, 754, 755, 756,\n",
       "        757, 758, 759, 760, 761, 762, 763, 764, 765, 766, 767, 768, 769,\n",
       "        770, 771, 772, 773, 774, 775, 776, 777, 778, 779, 780, 781, 782,\n",
       "        783, 784, 785, 786, 787, 788, 789, 790, 791, 792, 793, 794, 795,\n",
       "        796, 797, 798, 799, 800, 801, 802, 803, 804, 805, 806, 807, 808,\n",
       "        809, 810, 811, 812, 813, 814, 815, 816, 817, 818, 819, 820, 821,\n",
       "        822, 823])}"
      ]
     },
     "execution_count": 92,
     "metadata": {},
     "output_type": "execute_result"
    }
   ],
   "source": [
    "result\n"
   ]
  },
  {
   "cell_type": "code",
   "execution_count": null,
   "metadata": {},
   "outputs": [],
   "source": [
    "# Evaluate ELBO and LSTM prediction error on the validation set\n",
    "# evaluate some anomaly detection metrics\n",
    "def evaluate_vae_anomaly_metrics_for_a_window(test_win):\n",
    "    feed_dict = {model_vae.original_signal: np.expand_dims(test_win, 0),\n",
    "                 model_vae.is_code_input: False,\n",
    "                 model_vae.code_input: np.zeros((1, config['code_size']))}\n",
    "\n",
    "    # VAE reconstruction error\n",
    "    recons_win_vae = np.squeeze(sess.run(model_vae.decoded, feed_dict=feed_dict))\n",
    "    test_vae_recons_error = np.sum(np.square(recons_win_vae - test_win))\n",
    "\n",
    "    # VAE latent embedding likelihood\n",
    "    vae_code_mean, vae_code_std = sess.run([model_vae.code_mean, model_vae.code_std_dev], feed_dict=feed_dict)\n",
    "    test_vae_kl = 0.5 * (np.sum(np.square(vae_code_mean)) + \\\n",
    "                            np.sum(np.square(vae_code_std)) - \\\n",
    "                            np.sum(np.log(np.square(vae_code_std))) - config['code_size'])\n",
    "\n",
    "    # VAE ELBO loss\n",
    "    sigma2 = 0.0005\n",
    "    input_dims = model_vae.input_dims\n",
    "    sigma_regularisor = input_dims/2. * np.log(sigma2) + input_dims * np.pi\n",
    "    test_vae_elbo = test_vae_recons_error/sigma2 + test_vae_kl + sigma_regularisor\n",
    "    return test_vae_recons_error, test_vae_kl, test_vae_elbo\n",
    "\n",
    "def evaluate_lstm_anomaly_metric_for_a_seq(test_seq):\n",
    "    feed_dict = {model_vae.original_signal: test_seq,\n",
    "                 model_vae.is_code_input: False,\n",
    "                 model_vae.code_input: np.zeros((1, config['code_size']))}\n",
    "    vae_embedding = np.squeeze(sess.run(model_vae.code_mean, feed_dict=feed_dict))\n",
    "    #print(vae_embedding.shape)\n",
    "    lstm_embedding = np.squeeze(lstm_nn_model.predict(np.expand_dims(vae_embedding[:config['l_seq']-1], 0), batch_size=1))\n",
    "    lstm_embedding_error = np.sum(np.square(vae_embedding[1:] - lstm_embedding))\n",
    "    # error_original = vae_embedding[1:] - lstm_embedding\n",
    "    #print(error_original.shape)\n",
    "    \n",
    "    # LSTM prediction error\n",
    "    feed_dict_lstm = {model_vae.original_signal: np.zeros((config['l_seq'] - 1, config['l_win'], config['n_channel'])),\n",
    "                      model_vae.is_code_input: True,\n",
    "                      model_vae.code_input: lstm_embedding}\n",
    "    recons_win_lstm = np.squeeze(sess.run(model_vae.decoded, feed_dict=feed_dict_lstm))\n",
    "    lstm_recons_error = np.sum(np.square(recons_win_lstm - np.squeeze(test_seq[1:])))\n",
    "    error_original = np.abs(recons_win_lstm - np.squeeze(test_seq[1:])).reshape((config['l_seq']-1,-1)) #them dong nay de tinh\n",
    "    return lstm_recons_error, lstm_embedding_error, error_original\n",
    "data.val_set_vae['data'] = np.asarray(data.val_set_vae['data'])\n",
    "data.val_set_lstm['data'] = np.asarray(data.val_set_lstm['data'])\n",
    "data.train_set_lstm['data'] = np.asarray(data.train_set_lstm['data'])\n",
    "data.train_set_vae['data'] = np.asarray(data.train_set_vae['data'])\n",
    "n_val_vae = data.val_set_vae['data'].shape[0]\n",
    "n_val_lstm = data.val_set_lstm['data'].shape[0]\n",
    "\n",
    "val_vae_recons_error = np.zeros(n_val_vae)\n",
    "val_vae_kl_error = np.zeros(n_val_vae)\n",
    "val_vae_elbo_loss = np.zeros(n_val_vae)\n",
    "for i in range(n_val_vae):\n",
    "    val_vae_recons_error[i], val_vae_kl_error[i], val_vae_elbo_loss[i] = evaluate_vae_anomaly_metrics_for_a_window(data.val_set_vae['data'][i])\n",
    "\n",
    "val_lstm_recons_error, val_lstm_embedding_error = np.zeros(n_val_lstm), np.zeros(n_val_lstm)\n",
    "val_lstm_error_original = np.zeros((n_val_lstm,config['l_seq']-1,config['l_win']*config['n_channel']))\n",
    "for i in range(n_val_lstm):\n",
    "    val_lstm_recons_error[i], val_lstm_embedding_error[i], val_lstm_error_original[i] = evaluate_lstm_anomaly_metric_for_a_seq(data.val_set_lstm['data'][i])\n",
    "    \n",
    "n_train_lstm = data.train_set_lstm['data'].shape[0]\n",
    "train_lstm_recons_error, train_lstm_embedding_error = np.zeros(n_train_lstm), np.zeros(n_train_lstm)\n",
    "train_lstm_error_original = np.zeros((n_train_lstm,config['l_seq']-1,config['l_win']*config['n_channel'])) #them de tinh OCSVM\n",
    "for i in range(n_train_lstm):\n",
    "    train_lstm_recons_error[i], train_lstm_embedding_error[i], train_lstm_error_original[i] = evaluate_lstm_anomaly_metric_for_a_seq(data.train_set_lstm['data'][i])"
   ]
  },
  {
   "cell_type": "code",
   "execution_count": null,
   "metadata": {},
   "outputs": [],
   "source": [
    "config['l_seq']"
   ]
  },
  {
   "cell_type": "code",
   "execution_count": null,
   "metadata": {},
   "outputs": [],
   "source": [
    "from scipy.stats import norm\n",
    "def plot_histogram(test_anomaly_metric, n_bins, title, mean=None, std=None, xlim=None, saveplot=False):\n",
    "    test_anomaly_list = np.squeeze(np.ndarray.flatten(test_anomaly_metric))\n",
    "    his = plt.hist(test_anomaly_list, bins=n_bins, density=True)\n",
    "    if mean is None and std is None:\n",
    "        mean = np.mean(test_anomaly_list)\n",
    "        std = np.std(test_anomaly_list)\n",
    "        legend_label = None\n",
    "    else:\n",
    "        legend_label = 1\n",
    "    x_axis = np.arange(mean-5*std, mean+5*std, std/100)\n",
    "    plt.plot(x_axis, norm.pdf(x_axis,mean,std))\n",
    "    plt.title(title)\n",
    "    plt.xlabel('anomaly score value')\n",
    "    plt.ylabel('probability density')\n",
    "    if xlim is not None:\n",
    "        plt.xlim(0, xlim)\n",
    "    else:\n",
    "        plt.xlim(0, np.amax(test_anomaly_list))\n",
    "    if legend_label is None:\n",
    "        plt.legend(('Fitted Gaussian', 'histogram'))\n",
    "    else:\n",
    "        plt.legend(('normal data distribution','test data distribution (contain anomalies)'))\n",
    "    if saveplot:\n",
    "        savefig(config['result_dir']+'reconstruction_error_histogram.pdf')\n",
    "    else:\n",
    "        plt.show()\n",
    "    threshold_25 = np.percentile(test_anomaly_list, 25)\n",
    "    threshold_75 = np.percentile(test_anomaly_list, 75)\n",
    "    threshold_1 = np.percentile(test_anomaly_list, 99)\n",
    "    idx_large_error = np.squeeze(np.argwhere(test_anomaly_metric > threshold_1))\n",
    "#     print(his[0][-20:])\n",
    "#     print(his[1][-20:])\n",
    "    print(\"25% percentile: {}\".format(threshold_25))\n",
    "    print(\"75% percentile: {}\".format(threshold_75))\n",
    "#     print(\"Median: {}\".format(np.median(test_anomaly_list)))\n",
    "#     print(\"Mean: {}\".format(np.mean(test_anomaly_list)))\n",
    "#     print(\"Std dev: {}\".format(np.std(test_anomaly_list)))\n",
    "    print(\"These windows scored the top 1% of anomaly metric ({}): \\n{}\".format(threshold_1, idx_large_error))\n",
    "    return mean, std"
   ]
  },
  {
   "cell_type": "code",
   "execution_count": null,
   "metadata": {},
   "outputs": [],
   "source": [
    "# Histogram of VAE ELBO loss - validation set\n",
    "vae_elbo_m, vae_elbo_std = plot_histogram(val_vae_elbo_loss, 100, \n",
    "                                          'VAE ELBO error distribution on the val set', \n",
    "                                          mean=None, std=None, xlim=None)"
   ]
  },
  {
   "cell_type": "code",
   "execution_count": null,
   "metadata": {},
   "outputs": [],
   "source": [
    "# Histogram of LSTM reconstruction error - train set \n",
    "#  --> to decide the anomaly detection threshold\n",
    "lstm_recons_m_train, lstm_recons_std_train = plot_histogram(train_lstm_recons_error, 100,  \n",
    "                                              'LSTM reconstruction error distribution on the train set', \n",
    "                                              mean=None, std=None, xlim=None)"
   ]
  },
  {
   "cell_type": "code",
   "execution_count": null,
   "metadata": {
    "scrolled": true
   },
   "outputs": [],
   "source": [
    "# Histogram of LSTM reconstruction error - validation set \n",
    "#  --> to decide the anomaly detection threshold\n",
    "lstm_recons_m_val, lstm_recons_std_val = plot_histogram(val_lstm_recons_error, 100,  \n",
    "                                              'LSTM reconstruction error distribution on the val set', \n",
    "                                              mean=None, std=None, xlim=None)"
   ]
  },
  {
   "cell_type": "code",
   "execution_count": null,
   "metadata": {},
   "outputs": [],
   "source": [
    "# Evaluate the anomaly metrics on the test windows and sequences\n",
    "n_test_lstm = test_seq.shape[0]\n",
    "\n",
    "test_lstm_recons_error, test_lstm_embedding_error = np.zeros(n_test_lstm), np.zeros(n_test_lstm)\n",
    "test_lstm_error_original = np.zeros((n_test_lstm,config['l_seq']-1,config['l_win']*config['n_channel']))\n",
    "for i in range(n_test_lstm):\n",
    "    test_lstm_recons_error[i], test_lstm_embedding_error[i], test_lstm_error_original[i] = evaluate_lstm_anomaly_metric_for_a_seq(test_seq[i])\n",
    "print(\"All windows' reconstruction error is computed.\")\n",
    "print(\"The total number of windows is {}\".format(len(test_lstm_recons_error)))"
   ]
  },
  {
   "cell_type": "code",
   "execution_count": null,
   "metadata": {},
   "outputs": [],
   "source": [
    "# Histogram of LSTM reconstruction error - test set \n",
    "#  --> to detect anomaly now\n",
    "_, _ = plot_histogram(test_lstm_recons_error, 100,\n",
    "                      'LSTM reconstruction error distribution on the test set', \n",
    "                      mean=lstm_recons_m_val, std=lstm_recons_std_val, xlim=None, saveplot=True)"
   ]
  },
  {
   "cell_type": "code",
   "execution_count": null,
   "metadata": {},
   "outputs": [],
   "source": [
    "# Produce the ground truth anomaly indices \n",
    "# if result['idx_split'][0] == 0:\n",
    "#     idx_anomaly_test = result['idx_anomaly_test']\n",
    "# else:\n",
    "#     idx_anomaly_test = result['idx_anomaly_test'][0]\n",
    "idx_anomaly_test = result['idx_anomaly_test']    \n",
    "anomaly_index_lstm = []\n",
    "test_labels_lstm = np.zeros(n_test_lstm)\n",
    "for i in range(len(idx_anomaly_test)):\n",
    "    idx_start = idx_anomaly_test[i]-(config['l_win']*config['l_seq']-1)\n",
    "    idx_end = idx_anomaly_test[i]+1\n",
    "    if idx_start < 0:\n",
    "        idx_start = 0\n",
    "    if idx_end > n_test_lstm:\n",
    "        idx_end = n_test_lstm\n",
    "    anomaly_index_lstm.append(np.arange(idx_start,idx_end))\n",
    "    test_labels_lstm[idx_start:idx_end] = 1\n",
    "    \n",
    "print(test_labels_lstm.shape)"
   ]
  },
  {
   "cell_type": "code",
   "execution_count": null,
   "metadata": {},
   "outputs": [],
   "source": [
    "print(result['idx_anomaly_test'])\n",
    "print(list(anomaly_index_lstm))\n",
    "print(test_labels_lstm)"
   ]
  },
  {
   "cell_type": "code",
   "execution_count": null,
   "metadata": {},
   "outputs": [],
   "source": [
    "test_normal_idx = np.squeeze(np.argwhere(test_labels_lstm==0))\n",
    "test_anomaly_idx = np.squeeze(np.argwhere(test_labels_lstm==1))\n",
    "test_lstm_recons_error_normal = test_lstm_recons_error[test_normal_idx]\n",
    "test_lstm_recons_error_anomaly = test_lstm_recons_error[test_anomaly_idx]\n",
    "lstm_recons_m_test_normal = np.mean(test_lstm_recons_error_normal)\n",
    "lstm_recons_std_test_normal = np.std(test_lstm_recons_error_normal)\n",
    "lstm_recons_m_test_anomaly = np.mean(test_lstm_recons_error_anomaly)\n",
    "lstm_recons_std_test_anomaly = np.std(test_lstm_recons_error_anomaly)\n",
    "lstm_recons_m_test = np.mean(test_lstm_recons_error)\n",
    "lstm_recons_std_test = np.std(test_lstm_recons_error)\n",
    "\n",
    "means = (lstm_recons_m_test_normal, lstm_recons_m_test_anomaly, lstm_recons_m_test, lstm_recons_m_train, lstm_recons_m_val)\n",
    "stds = (lstm_recons_std_test_normal, lstm_recons_std_test_anomaly, lstm_recons_std_test, lstm_recons_std_train, lstm_recons_std_val)\n",
    "for mean,std in zip(means,stds):\n",
    "    x_axis = np.arange(mean-5*std, mean+5*std, std/100)\n",
    "    #x_axis = np.arange(-10000,10000)\n",
    "    plt.plot(x_axis, norm.pdf(x_axis,mean,std))\n",
    "plt.legend(('test_norm', 'test_anomaly', 'test', 'train', 'val')) \n",
    "#plt.xscale('log')\n",
    "#plt.yscale('log')\n",
    "plt.title(\"Distribution of different sets on \" + config['dataset'])\n",
    "#print(lstm_recons_m_test,lstm_recons_std_test)\n",
    "#print(lstm_recons_m_val,lstm_recons_std_val)\n",
    "#print(lstm_recons_m_test_normal,lstm_recons_m_test_normal)\n",
    "print(means)\n",
    "print(stds)"
   ]
  },
  {
   "cell_type": "code",
   "execution_count": null,
   "metadata": {},
   "outputs": [],
   "source": [
    "def return_anomaly_idx_by_threshold(test_anomaly_metric, threshold):\n",
    "    test_list = np.squeeze(np.ndarray.flatten(test_anomaly_metric))\n",
    "    idx_error = np.squeeze(np.argwhere(test_anomaly_metric > threshold))\n",
    "    \n",
    "    if len(idx_error.shape) == 0:\n",
    "        idx_error = np.expand_dims(idx_error, 0)\n",
    "    \n",
    "    return list(idx_error)"
   ]
  },
  {
   "cell_type": "code",
   "execution_count": null,
   "metadata": {},
   "outputs": [],
   "source": [
    "def augment_detected_idx(idx_detected_anomaly, anomaly_index):\n",
    "    n_anomaly = len(anomaly_index)\n",
    "    idx_detected_anomaly_extended = list(idx_detected_anomaly)\n",
    "    for i in range(n_anomaly):\n",
    "        #print(idx_detected_anomaly)\n",
    "        for j in idx_detected_anomaly:\n",
    "            if j in anomaly_index[i]:\n",
    "                in_original_detection = set(idx_detected_anomaly_extended)\n",
    "                currect_anomaly_win = set(anomaly_index[i])\n",
    "                idx_detected_anomaly_extended = idx_detected_anomaly_extended + list(currect_anomaly_win - in_original_detection)\n",
    "                #print(j)\n",
    "                break\n",
    "                \n",
    "    return list(np.sort(idx_detected_anomaly_extended))"
   ]
  },
  {
   "cell_type": "code",
   "execution_count": null,
   "metadata": {},
   "outputs": [],
   "source": [
    "def count_TP_FP_FN(idx_detected_anomaly, anomaly_index, test_labels):\n",
    "    n_TP = 0\n",
    "    n_FP = 0\n",
    "    n_detection = len(idx_detected_anomaly)\n",
    "    for i in range(n_detection):\n",
    "        if test_labels[idx_detected_anomaly[i]] == 1:\n",
    "            n_TP = n_TP + 1\n",
    "        else:\n",
    "            n_FP = n_FP + 1 #both branch the same?\n",
    "    \n",
    "    idx_undetected = list(set(np.arange(len(test_labels)))- set(idx_detected_anomaly))\n",
    "    n_FN = 0\n",
    "    for i in idx_undetected:\n",
    "        if test_labels[i] == 1:\n",
    "            n_FN = n_FN + 1\n",
    "    \n",
    "    return n_TP, n_FP, n_FN"
   ]
  },
  {
   "cell_type": "code",
   "execution_count": null,
   "metadata": {},
   "outputs": [],
   "source": [
    "def compute_precision_and_recall(idx_detected_anomaly, anomaly_index, test_labels):\n",
    "    # compute true positive\n",
    "    n_TP, n_FP, n_FN = count_TP_FP_FN(idx_detected_anomaly, anomaly_index, test_labels)\n",
    "    \n",
    "    if n_TP + n_FP == 0:\n",
    "        precision = 1\n",
    "    else:\n",
    "        precision = n_TP / (n_TP + n_FP)\n",
    "    recall = n_TP / (n_TP + n_FN)\n",
    "    if precision + recall == 0:\n",
    "        F1 = 0\n",
    "    else:\n",
    "        F1 = 2* (precision * recall)/(precision + recall)\n",
    "    \n",
    "    return precision, recall, F1, n_TP, n_FP, n_FN"
   ]
  },
  {
   "cell_type": "code",
   "execution_count": null,
   "metadata": {},
   "outputs": [],
   "source": [
    "n_threshold = 25\n",
    "precision = np.zeros(n_threshold)\n",
    "recall = np.zeros(n_threshold)\n",
    "F1 = np.zeros(n_threshold)\n",
    "precision_aug = np.zeros(n_threshold)\n",
    "recall_aug = np.zeros(n_threshold)\n",
    "F1_aug = np.zeros(n_threshold)\n",
    "i = 0\n",
    "threshold_list = np.linspace(np.amin(test_lstm_recons_error), np.amax(test_lstm_recons_error), n_threshold, endpoint=True)\n",
    "threshold_list = np.flip(threshold_list)\n",
    "for threshold in threshold_list:\n",
    "    #print(threshold_list[i])\n",
    "    idx_detection_lstm = return_anomaly_idx_by_threshold(test_lstm_recons_error, threshold)\n",
    "    precision[i], recall[i], F1[i], _, _, _ = compute_precision_and_recall(idx_detection_lstm, \n",
    "                                                                           anomaly_index_lstm, \n",
    "                                                                           test_labels_lstm)\n",
    "    # augment the detection using the ground truth labels\n",
    "    # a method to discount the factor one anomaly appears in multiple consecutive windows\n",
    "    # introduced in \"Unsupervised anomaly detection via variational auto-encoder for seasonal kpis in web applications\"\n",
    "    idx_detection_lstm_augmented = augment_detected_idx(idx_detection_lstm, anomaly_index_lstm)\n",
    "    precision_aug[i], recall_aug[i], F1_aug[i], _, _, _ = compute_precision_and_recall(idx_detection_lstm_augmented, \n",
    "                                                                                       anomaly_index_lstm, \n",
    "                                                                                       test_labels_lstm)\n",
    "    i = i + 1\n",
    "    #print(precision, recall, F1)"
   ]
  },
  {
   "cell_type": "code",
   "execution_count": null,
   "metadata": {},
   "outputs": [],
   "source": [
    "print(\"Best F1 score is {}\".format(np.amax(F1)))\n",
    "idx_best_threshold = np.squeeze(np.argwhere(F1 == np.amax(F1)))\n",
    "print(\"Best threshold is {}\".format(threshold_list[idx_best_threshold]))\n",
    "print(\"At this threshold, precision is {}, recall is {}\".format(precision[idx_best_threshold], recall[idx_best_threshold]))\n",
    "average_precision = np.sum(precision[1:] * (recall[1:] - recall[:-1]))\n",
    "print(\"Average precision is {}\".format(average_precision))\n",
    "\n",
    "print(\"\\nAugmented detection:\")\n",
    "print(\"Best F1 score is {}\".format(np.amax(F1_aug)))\n",
    "idx_best_threshold = np.squeeze(np.argwhere(F1_aug == np.amax(F1_aug)))\n",
    "print(\"Best threshold is {}\".format(threshold_list[idx_best_threshold]))\n",
    "best_thres = np.min(threshold_list[idx_best_threshold])\n",
    "print(\"At this threshold, precision is {}, recall is {}\".format(precision_aug[idx_best_threshold], \n",
    "                                                                recall_aug[idx_best_threshold]))\n",
    "\n",
    "average_precision_aug = np.sum(precision_aug[1:] * (recall_aug[1:] - recall_aug[:-1]))\n",
    "print(\"Average precision is {}\".format(average_precision_aug))"
   ]
  },
  {
   "cell_type": "code",
   "execution_count": null,
   "metadata": {},
   "outputs": [],
   "source": [
    "import math\n",
    "from scipy.stats import norm\n",
    "\n",
    "def KQp(data,q):\n",
    "#UNTITLED3 Summary of this function goes here\n",
    "#   Detailed explanation goes here\n",
    "    data2 = np.sort(data) #sap xep tang dan\n",
    "    n = np.shape(data2)[0] #kich thuoc\n",
    "    p = 1-q #q tu xet, dat bang smth 0.05 0.025 0.01\n",
    "    h = math.sqrt((p*q)/(n+1));\n",
    "    KQ=0;\n",
    "    for i in range(1,n+1):\n",
    "        a= ((i/n)-p)/h;\n",
    "        b= (((i-1)/n)-p)/h;\n",
    "        TP=(norm.cdf(a)-norm.cdf(b))*data2[i-1]; #normcdf thu trong matlab\n",
    "        KQ=KQ+TP;    \n",
    "    KQp = KQ;\n",
    "    return KQp\n",
    "\n",
    "for i in [0.05,0.025,0.01]:\n",
    "    print(\"KQp is:\", KQp(test_lstm_recons_error,0.05),\"with q =\",i)\n"
   ]
  },
  {
   "cell_type": "code",
   "execution_count": null,
   "metadata": {},
   "outputs": [],
   "source": [
    "# Now select a threshold\n",
    "threshold = best_thres#100.13527662881674\n",
    "q = 0.025\n",
    "KQp_thres = KQp(test_lstm_recons_error, q)\n",
    "\n",
    "print(\"KQp threshold is {}\".format(KQp_thres))\n",
    "idx_detection = return_anomaly_idx_by_threshold(test_lstm_recons_error, KQp_thres)\n",
    "#print(idx_detection)\n",
    "idx_detection_augmented = augment_detected_idx(idx_detection, anomaly_index_lstm)\n",
    "#print(anomaly_index_lstm)\n",
    "#print(idx_detection_augmented)\n",
    "precision, recall, F1, n_TP, n_FP, n_FN = compute_precision_and_recall(idx_detection_augmented, \n",
    "                                                                       anomaly_index_lstm, \n",
    "                                                                       test_labels_lstm)\n",
    "print(\"\\nPR evaluation using KQE:\")\n",
    "print(\"Precision: {}\".format(precision))\n",
    "print(\"Recall: {}\".format(recall))\n",
    "print(\"F1: {}\".format(F1))\n",
    "print(\"TP: {}\".format(n_TP))\n",
    "print(\"FP: {}\".format(n_FP))\n",
    "print(\"FN: {}\".format(n_FN))\n",
    "\n",
    "print(\"\\nThreshold is {}\".format(threshold))\n",
    "idx_detection = return_anomaly_idx_by_threshold(test_lstm_recons_error, threshold)\n",
    "idx_detection_augmented = augment_detected_idx(idx_detection, anomaly_index_lstm)\n",
    "precision, recall, F1, n_TP, n_FP, n_FN = compute_precision_and_recall(idx_detection_augmented, \n",
    "                                                                       anomaly_index_lstm, \n",
    "                                                                       test_labels_lstm)\n",
    "print(\"\\nPR evaluation using augmented detection:\")\n",
    "print(\"Precision: {}\".format(precision))\n",
    "print(\"Recall: {}\".format(recall))\n",
    "print(\"F1: {}\".format(F1))\n",
    "print(\"TP: {}\".format(n_TP))\n",
    "print(\"FP: {}\".format(n_FP))\n",
    "print(\"FN: {}\".format(n_FN))"
   ]
  },
  {
   "cell_type": "code",
   "execution_count": 30,
   "metadata": {},
   "outputs": [
    {
     "name": "stdout",
     "output_type": "stream",
     "text": [
      "1.0\n",
      "0.5\n",
      "0.3333333333333333\n"
     ]
    }
   ],
   "source": [
    "import numpy as np\n",
    "for i in range(1,4):\n",
    "    print(1/i)"
   ]
  },
  {
   "cell_type": "code",
   "execution_count": 31,
   "metadata": {},
   "outputs": [],
   "source": [
    "def slice_detected_indices_into_seq(idx_detection, interval):\n",
    "    detected_seq = []\n",
    "    i = 0\n",
    "    while i < len(idx_detection):\n",
    "        if i == 0:\n",
    "            cur_seq = [idx_detection[i]]\n",
    "            i = i + 1\n",
    "        else:\n",
    "            if idx_detection[i] - idx_detection[i-1] > interval:\n",
    "                detected_seq.append(cur_seq)\n",
    "                cur_seq = [idx_detection[i]]\n",
    "            else:\n",
    "                cur_seq.append(idx_detection[i])\n",
    "                if i == len(idx_detection) - 1:\n",
    "                    detected_seq.append(cur_seq)\n",
    "            i = i + 1\n",
    "    \n",
    "    print(\"Detected {} sequences\".format(len(detected_seq)))\n",
    "    return detected_seq"
   ]
  },
  {
   "cell_type": "code",
   "execution_count": 32,
   "metadata": {},
   "outputs": [],
   "source": [
    "def plot_detected_anomalies(idx_detection, interval, dataset, result, detection_method, augmented_flag=1, y_scale=5, y_lim=None):\n",
    "    detected_seq = slice_detected_indices_into_seq(idx_detection, interval=interval)\n",
    "    #t_test = result['t_test']\n",
    "    test = result['test']\n",
    "    t_test = np.array(range(result['test'].shape[0]))\n",
    "    idx_anomaly_test = result['idx_anomaly_test']\n",
    "        \n",
    "    # plot detected sequences\n",
    "    fig, axs = plt.subplots(1, 1, figsize=(18, 5), edgecolor='k')\n",
    "    fig.subplots_adjust(hspace=.4, wspace=.4)\n",
    "    axs.plot(t_test, test)\n",
    "    for j in range(len(idx_anomaly_test)):\n",
    "        if j == 0:\n",
    "            axs.plot(idx_anomaly_test[j] * np.ones(20), np.linspace(-y_scale, y_scale, 20), 'r--', label='true anomalies')\n",
    "        else:\n",
    "            axs.plot(idx_anomaly_test[j] * np.ones(20), np.linspace(-y_scale, y_scale, 20), 'r--')\n",
    "        \n",
    "    for i in range(len(detected_seq)):\n",
    "        for j in detected_seq[i]:\n",
    "            if j == detected_seq[0][0]:\n",
    "                axs.plot((j+interval*2) * np.ones(20), np.linspace(-y_scale, -0.8*y_scale, 20), 'g-', label='detected anomalies')\n",
    "            else:\n",
    "                axs.plot((j+interval*2) * np.ones(20), np.linspace(-y_scale, -0.8*y_scale, 20), 'g-')\n",
    "    \n",
    "    for j in range(len(idx_anomaly_test)):\n",
    "        axs.plot(idx_anomaly_test[j] * np.ones(20), np.linspace(-y_scale, y_scale, 20), 'r--')\n",
    "\n",
    "    for i in range(len(detected_seq)):\n",
    "        interval_x = np.asarray([detected_seq[i][0], detected_seq[i][-1]+interval*2])\n",
    "        interval_y = np.asarray([y_scale,y_scale])\n",
    "        if i == 0:\n",
    "            axs.fill_between(interval_x, interval_y, alpha=0.2, color='y', label='detected anomaly windows')\n",
    "        else:\n",
    "            axs.fill_between(interval_x, interval_y, alpha=0.2, color='y')\n",
    "        interval_y = np.asarray([-y_scale,-y_scale])\n",
    "        axs.fill_between(interval_x, interval_y, alpha=0.2, color='y')\n",
    "    axs.grid(True)\n",
    "    axs.set_xlim(0, len(t_test))\n",
    "    if y_lim is None:\n",
    "        axs.set_ylim(-y_scale, y_scale)\n",
    "    else:\n",
    "        axs.set_ylim(-y_scale, y_lim)\n",
    "    axs.set_xlabel(\"timestamp (every {})\".format(result['t_unit']))\n",
    "    axs.set_ylabel(\"normalised readings\")\n",
    "    axs.set_title(\"{} dataset test sequence\\n(normalised by train mean {:.4f} and std {:.4f})\\n Detection method: {}\".format(dataset, \n",
    "                                                                                        np.mean(result['train_m']), \n",
    "                                                                                        np.mean(result['train_std']),\n",
    "                                                                                        detection_method))\n",
    "    axs.legend()\n",
    "    savefig(config['result_dir']+'detected_anomalies_{}_aug_{}.pdf'.format(detection_method, augmented_flag))"
   ]
  },
  {
   "cell_type": "code",
   "execution_count": 33,
   "metadata": {},
   "outputs": [
    {
     "name": "stdout",
     "output_type": "stream",
     "text": [
      "Detected 2 sequences\n"
     ]
    },
    {
     "data": {
      "image/png": "[encoded data removed]",
      "text/plain": [
       "<Figure size 1296x360 with 1 Axes>"
      ]
     },
     "metadata": {
      "needs_background": "light"
     },
     "output_type": "display_data"
    }
   ],
   "source": [
    "plot_detected_anomalies(idx_detection_augmented, \n",
    "                        interval=config['l_win']*config['l_seq']/2, \n",
    "                        dataset=dataset, \n",
    "                        result=result, \n",
    "                        detection_method='lstm reconstruction error',\n",
    "                        augmented_flag=1,\n",
    "                        y_scale=5,\n",
    "                        y_lim=5)"
   ]
  },
  {
   "cell_type": "code",
   "execution_count": 34,
   "metadata": {},
   "outputs": [
    {
     "name": "stdout",
     "output_type": "stream",
     "text": [
      "OSCVM recons abs: \n",
      "Precision :  0.10827621223660827\n",
      "Recall:  0.579483695652174\n",
      "F1_score:  0.18245989304812835\n",
      "Accuracy :  0.2948339483394834\n"
     ]
    }
   ],
   "source": [
    "from sklearn.metrics import precision_recall_curve\n",
    "from sklearn.metrics import precision_score\n",
    "from sklearn.metrics import recall_score\n",
    "from sklearn.metrics import f1_score\n",
    "from sklearn.metrics import accuracy_score\n",
    "\n",
    "#X_train =\n",
    "#predicted_train =\n",
    "#X_test = \n",
    "#predicted = \n",
    "y_test1 = np.where(test_labels_lstm==1,-1,1) #doi lai label\n",
    "\n",
    "#OCSVM\n",
    "#e=X_train - predicted_train\n",
    "#e = val_lstm_error_original\n",
    "e = train_lstm_error_original\n",
    "nsamples, nx, ny = e.shape\n",
    "d2_e = e.reshape((nsamples,nx*ny))\n",
    "\n",
    "nu = 0.5 #0.0055\n",
    "gamma = 'auto' #1.5\n",
    "from sklearn import svm\n",
    "clf = svm.OneClassSVM(nu=nu, kernel=\"rbf\", gamma=gamma)\n",
    "clf.fit(d2_e)\n",
    "\n",
    "#e_t=X_test - predicted\n",
    "e_t = test_lstm_error_original\n",
    "nsamples, nx, ny = e_t.shape\n",
    "\n",
    "d2_e_t = e_t.reshape((nsamples,nx*ny))\n",
    "y_scores = clf.predict(d2_e_t)\n",
    "\n",
    "precision = precision_score(y_test1, y_scores, pos_label=-1)\n",
    "recall    = recall_score(y_test1, y_scores, pos_label=-1)\n",
    "accuracy = accuracy_score(y_test1, y_scores)\n",
    "f1 = f1_score(y_test1, y_scores, pos_label=-1)\n",
    "print ('OSCVM recons abs: ')\n",
    "print ('Precision : ', precision)\n",
    "print ('Recall: ', recall)\n",
    "print ('F1_score: ', f1)\n",
    "print ('Accuracy : ', accuracy)\n"
   ]
  },
  {
   "cell_type": "code",
   "execution_count": 35,
   "metadata": {},
   "outputs": [
    {
     "data": {
      "text/plain": [
       "(11127,)"
      ]
     },
     "execution_count": 35,
     "metadata": {},
     "output_type": "execute_result"
    }
   ],
   "source": [
    "result['test'].shape\n"
   ]
  },
  {
   "cell_type": "code",
   "execution_count": 36,
   "metadata": {},
   "outputs": [
    {
     "name": "stdout",
     "output_type": "stream",
     "text": [
      "0.0\n",
      "0.0\n",
      "0.0\n"
     ]
    }
   ],
   "source": [
    "a = [1, 1, -1, -1]\n",
    "b = [1, -1, 1, 1]\n",
    "precision = precision_score(a,b,pos_label=-1)\n",
    "recall = recall_score(a,b,pos_label=-1)\n",
    "print(precision)\n",
    "print(recall)\n",
    "f1 = f1_score(a, b, pos_label=-1)\n",
    "print(f1)"
   ]
  },
  {
   "cell_type": "code",
   "execution_count": 37,
   "metadata": {},
   "outputs": [
    {
     "data": {
      "text/plain": [
       "[1, 3, 4, 1, 7, 8]"
      ]
     },
     "execution_count": 37,
     "metadata": {},
     "output_type": "execute_result"
    }
   ],
   "source": [
    "[1,3,4] + [1,7,8]"
   ]
  },
  {
   "cell_type": "code",
   "execution_count": null,
   "metadata": {},
   "outputs": [],
   "source": []
  }
 ],
 "metadata": {
  "kernelspec": {
   "display_name": "Python 3",
   "language": "python",
   "name": "python3"
  },
  "language_info": {
   "codemirror_mode": {
    "name": "ipython",
    "version": 3
   },
   "file_extension": ".py",
   "mimetype": "text/x-python",
   "name": "python",
   "nbconvert_exporter": "python",
   "pygments_lexer": "ipython3",
   "version": "3.7.9"
  }
 },
 "nbformat": 4,
 "nbformat_minor": 2
}
